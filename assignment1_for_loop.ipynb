{
 "cells": [
  {
   "cell_type": "code",
   "execution_count": 1,
   "id": "62a3df39-f680-48fc-bb7c-b32b0a971f9d",
   "metadata": {},
   "outputs": [
    {
     "data": {
      "text/plain": [
       "'use of for and while loop\\nfor loop is used to repetative tasks or for accessing element of list,tuple,string,set,dict or to a task for\\ngiven range.'"
      ]
     },
     "execution_count": 1,
     "metadata": {},
     "output_type": "execute_result"
    }
   ],
   "source": [
    "\"\"\"use of for and while loop\n",
    "for loop is used to repetative tasks or for accessing element of list,tuple,string,set,dict or to a task for\n",
    "given range.\"\"\""
   ]
  },
  {
   "cell_type": "code",
   "execution_count": 2,
   "id": "bb34441a-5c45-4546-9d1d-a395d1bafae4",
   "metadata": {},
   "outputs": [],
   "source": [
    "l=[2,4,5,2,7]"
   ]
  },
  {
   "cell_type": "code",
   "execution_count": 3,
   "id": "4e6ebb1d-efae-4d07-b496-c080bd859e6f",
   "metadata": {},
   "outputs": [
    {
     "name": "stdout",
     "output_type": "stream",
     "text": [
      "square of 2 is 4\n",
      "square of 4 is 16\n",
      "square of 5 is 25\n",
      "square of 2 is 4\n",
      "square of 7 is 49\n"
     ]
    }
   ],
   "source": [
    "for i in l:\n",
    "    print(f'square of {i} is {i*i}')"
   ]
  },
  {
   "cell_type": "code",
   "execution_count": 4,
   "id": "cb847891-5959-4472-ad9c-2e20c3a82d20",
   "metadata": {},
   "outputs": [
    {
     "data": {
      "text/plain": [
       "'while loop is also used for repetative task until condition inside while loop is false'"
      ]
     },
     "execution_count": 4,
     "metadata": {},
     "output_type": "execute_result"
    }
   ],
   "source": [
    "\"while loop is also used for repetative task until condition inside while loop is false\"\"\""
   ]
  },
  {
   "cell_type": "code",
   "execution_count": 9,
   "id": "a56bead6-bea5-4289-a75a-b00a17674476",
   "metadata": {},
   "outputs": [
    {
     "name": "stdout",
     "output_type": "stream",
     "text": [
      "square of 0 is 0\n",
      "square of 1 is 1\n",
      "square of 2 is 4\n",
      "square of 3 is 9\n",
      "square of 4 is 16\n",
      "square of 5 is 25\n",
      "square of 6 is 36\n",
      "square of 7 is 49\n",
      "square of 8 is 64\n",
      "square of 9 is 81\n"
     ]
    }
   ],
   "source": [
    "j=0\n",
    "while j<10:\n",
    "    print(f'square of {j} is {j*j}')\n",
    "    j+=1"
   ]
  },
  {
   "cell_type": "code",
   "execution_count": 12,
   "id": "ccc3738c-08f0-40db-86fb-45d5a8a48c40",
   "metadata": {},
   "outputs": [
    {
     "name": "stdout",
     "output_type": "stream",
     "text": [
      "sum of first 10 natural numbers is 55\n",
      "product of first 10 natural numbers is 3628800\n"
     ]
    }
   ],
   "source": [
    "sum=0\n",
    "product=1\n",
    "for i in range(1,11):\n",
    "    sum+=i\n",
    "    product*=i\n",
    "print(f'sum of first 10 natural numbers is {sum}')\n",
    "print(f'product of first 10 natural numbers is {product}')"
   ]
  },
  {
   "cell_type": "code",
   "execution_count": 13,
   "id": "bb9df2a8-1fc2-42f9-a5cf-97d5b1ab2155",
   "metadata": {},
   "outputs": [
    {
     "name": "stdout",
     "output_type": "stream",
     "text": [
      "sum of first 10 natural numbers is 55\n",
      "product of first 10 natural numbers is 3628800\n"
     ]
    }
   ],
   "source": [
    "i=1\n",
    "sum=0\n",
    "product=1\n",
    "while i<11:\n",
    "    sum+=i\n",
    "    product*=i\n",
    "    i+=1\n",
    "print(f'sum of first 10 natural numbers is {sum}')\n",
    "print(f'product of first 10 natural numbers is {product}')"
   ]
  },
  {
   "cell_type": "code",
   "execution_count": 14,
   "id": "351545ae-b239-400f-b32d-e17660daf06b",
   "metadata": {},
   "outputs": [
    {
     "name": "stdin",
     "output_type": "stream",
     "text": [
      "please enter electricity units 234\n"
     ]
    }
   ],
   "source": [
    "units=input(\"please enter electricity units\")"
   ]
  },
  {
   "cell_type": "code",
   "execution_count": 22,
   "id": "f5a521bf-fded-48ad-acbc-0e4ea89eb534",
   "metadata": {},
   "outputs": [
    {
     "name": "stdout",
     "output_type": "stream",
     "text": [
      "electricity bill for month is 2250.0 \n"
     ]
    }
   ],
   "source": [
    "###units=input(\"please enter electricity units\")\n",
    "electricity_bill=0\n",
    "if units < 101:\n",
    "    electricity_bill=units*4.5\n",
    "elif units < 201:\n",
    "    electricity_bill=(100*4.5)+(units-100*6)\n",
    "elif units < 301:\n",
    "    electricity_bill=(100*4.5)+(100*6)+(units-200*10)\n",
    "else:\n",
    "    electricity_bill=(100*4.5)+(100*6)+(100*10)+((units-300)*20)\n",
    "    \n",
    "print(f'electricity bill for month is {electricity_bill} ')"
   ]
  },
  {
   "cell_type": "code",
   "execution_count": 16,
   "id": "cfb9849d-9902-41a1-9f13-65fedb9ec3b6",
   "metadata": {},
   "outputs": [],
   "source": [
    "units=310"
   ]
  },
  {
   "cell_type": "code",
   "execution_count": 20,
   "id": "4e0112dd-6474-47c3-bbea-c4138de98d1e",
   "metadata": {},
   "outputs": [
    {
     "data": {
      "text/plain": [
       "310"
      ]
     },
     "execution_count": 20,
     "metadata": {},
     "output_type": "execute_result"
    }
   ],
   "source": [
    "units"
   ]
  },
  {
   "cell_type": "code",
   "execution_count": 25,
   "id": "b44c8fdc-ca44-458a-a2f3-8d38b2f353bd",
   "metadata": {},
   "outputs": [],
   "source": [
    "l=list(range(0,101))"
   ]
  },
  {
   "cell_type": "code",
   "execution_count": 24,
   "id": "7bd115d5-392e-4ffb-ab4b-d334aff05617",
   "metadata": {},
   "outputs": [
    {
     "data": {
      "text/plain": [
       "[0,\n",
       " 1,\n",
       " 2,\n",
       " 3,\n",
       " 4,\n",
       " 5,\n",
       " 6,\n",
       " 7,\n",
       " 8,\n",
       " 9,\n",
       " 10,\n",
       " 11,\n",
       " 12,\n",
       " 13,\n",
       " 14,\n",
       " 15,\n",
       " 16,\n",
       " 17,\n",
       " 18,\n",
       " 19,\n",
       " 20,\n",
       " 21,\n",
       " 22,\n",
       " 23,\n",
       " 24,\n",
       " 25,\n",
       " 26,\n",
       " 27,\n",
       " 28,\n",
       " 29,\n",
       " 30,\n",
       " 31,\n",
       " 32,\n",
       " 33,\n",
       " 34,\n",
       " 35,\n",
       " 36,\n",
       " 37,\n",
       " 38,\n",
       " 39,\n",
       " 40,\n",
       " 41,\n",
       " 42,\n",
       " 43,\n",
       " 44,\n",
       " 45,\n",
       " 46,\n",
       " 47,\n",
       " 48,\n",
       " 49,\n",
       " 50,\n",
       " 51,\n",
       " 52,\n",
       " 53,\n",
       " 54,\n",
       " 55,\n",
       " 56,\n",
       " 57,\n",
       " 58,\n",
       " 59,\n",
       " 60,\n",
       " 61,\n",
       " 62,\n",
       " 63,\n",
       " 64,\n",
       " 65,\n",
       " 66,\n",
       " 67,\n",
       " 68,\n",
       " 69,\n",
       " 70,\n",
       " 71,\n",
       " 72,\n",
       " 73,\n",
       " 74,\n",
       " 75,\n",
       " 76,\n",
       " 77,\n",
       " 78,\n",
       " 79,\n",
       " 80,\n",
       " 81,\n",
       " 82,\n",
       " 83,\n",
       " 84,\n",
       " 85,\n",
       " 86,\n",
       " 87,\n",
       " 88,\n",
       " 89,\n",
       " 90,\n",
       " 91,\n",
       " 92,\n",
       " 93,\n",
       " 94,\n",
       " 95,\n",
       " 96,\n",
       " 97,\n",
       " 98,\n",
       " 99]"
      ]
     },
     "execution_count": 24,
     "metadata": {},
     "output_type": "execute_result"
    }
   ],
   "source": [
    "l"
   ]
  },
  {
   "cell_type": "code",
   "execution_count": 26,
   "id": "628b9c0d-f932-4109-adb3-3f577086a07f",
   "metadata": {},
   "outputs": [
    {
     "data": {
      "text/plain": [
       "[0,\n",
       " 1,\n",
       " 2,\n",
       " 3,\n",
       " 4,\n",
       " 5,\n",
       " 6,\n",
       " 7,\n",
       " 8,\n",
       " 9,\n",
       " 10,\n",
       " 11,\n",
       " 12,\n",
       " 13,\n",
       " 14,\n",
       " 15,\n",
       " 16,\n",
       " 17,\n",
       " 18,\n",
       " 19,\n",
       " 20,\n",
       " 21,\n",
       " 22,\n",
       " 23,\n",
       " 24,\n",
       " 25,\n",
       " 26,\n",
       " 27,\n",
       " 28,\n",
       " 29,\n",
       " 30,\n",
       " 31,\n",
       " 32,\n",
       " 33,\n",
       " 34,\n",
       " 35,\n",
       " 36,\n",
       " 37,\n",
       " 38,\n",
       " 39,\n",
       " 40,\n",
       " 41,\n",
       " 42,\n",
       " 43,\n",
       " 44,\n",
       " 45,\n",
       " 46,\n",
       " 47,\n",
       " 48,\n",
       " 49,\n",
       " 50,\n",
       " 51,\n",
       " 52,\n",
       " 53,\n",
       " 54,\n",
       " 55,\n",
       " 56,\n",
       " 57,\n",
       " 58,\n",
       " 59,\n",
       " 60,\n",
       " 61,\n",
       " 62,\n",
       " 63,\n",
       " 64,\n",
       " 65,\n",
       " 66,\n",
       " 67,\n",
       " 68,\n",
       " 69,\n",
       " 70,\n",
       " 71,\n",
       " 72,\n",
       " 73,\n",
       " 74,\n",
       " 75,\n",
       " 76,\n",
       " 77,\n",
       " 78,\n",
       " 79,\n",
       " 80,\n",
       " 81,\n",
       " 82,\n",
       " 83,\n",
       " 84,\n",
       " 85,\n",
       " 86,\n",
       " 87,\n",
       " 88,\n",
       " 89,\n",
       " 90,\n",
       " 91,\n",
       " 92,\n",
       " 93,\n",
       " 94,\n",
       " 95,\n",
       " 96,\n",
       " 97,\n",
       " 98,\n",
       " 99,\n",
       " 100]"
      ]
     },
     "execution_count": 26,
     "metadata": {},
     "output_type": "execute_result"
    }
   ],
   "source": [
    "l"
   ]
  },
  {
   "cell_type": "code",
   "execution_count": 28,
   "id": "d7ef63b2-9964-4897-89fb-27fb5ad87926",
   "metadata": {},
   "outputs": [
    {
     "name": "stdout",
     "output_type": "stream",
     "text": [
      "[1, 2, 3, 4, 5, 6, 7, 8, 9, 10, 11, 12, 13, 14, 15, 16, 17, 18, 19, 20, 21, 22, 23, 24, 25, 26, 27, 28, 29, 30, 31, 32, 33, 34, 35, 36, 37, 38, 39, 40, 41, 42, 43, 44, 45, 46, 47, 48, 49, 50, 51, 52, 53, 54, 55, 56, 57, 58, 59, 60, 61, 62, 63, 64, 65, 66, 67, 68, 69, 70, 71, 72, 73, 74, 75, 76, 77, 78, 79, 80, 81, 82, 83, 84, 85, 86, 87, 88, 89, 90, 91, 92, 93, 94, 95, 96, 97, 98, 99, 100, 8, 64, 125, 216, 512, 1000, 1728, 2744, 3375, 4096, 5832, 8000, 10648, 13824, 15625, 17576, 21952, 27000, 32768, 39304, 42875, 46656, 54872, 64000, 74088, 85184, 91125, 97336, 110592, 125000, 140608, 157464, 166375, 175616, 195112, 216000, 238328, 262144, 274625, 287496, 314432, 343000, 373248, 405224, 421875, 438976, 474552, 512000, 551368, 592704, 614125, 636056, 681472, 729000, 778688, 830584, 857375, 884736, 941192, 1000000]\n"
     ]
    }
   ],
   "source": [
    "l=list(range(1,101))\n",
    "for i in range(1,101):\n",
    "    cube=i**3\n",
    "    if cube%4==0 or cube%5==0:\n",
    "        l.append(cube)\n",
    "        \n",
    "print(l)"
   ]
  },
  {
   "cell_type": "code",
   "execution_count": 29,
   "id": "ff74b82a-c582-499c-a939-27e90248cd8e",
   "metadata": {},
   "outputs": [
    {
     "name": "stdout",
     "output_type": "stream",
     "text": [
      "[1, 2, 3, 4, 5, 6, 7, 8, 9, 10, 11, 12, 13, 14, 15, 16, 17, 18, 19, 20, 21, 22, 23, 24, 25, 26, 27, 28, 29, 30, 31, 32, 33, 34, 35, 36, 37, 38, 39, 40, 41, 42, 43, 44, 45, 46, 47, 48, 49, 50, 51, 52, 53, 54, 55, 56, 57, 58, 59, 60, 61, 62, 63, 64, 65, 66, 67, 68, 69, 70, 71, 72, 73, 74, 75, 76, 77, 78, 79, 80, 81, 82, 83, 84, 85, 86, 87, 88, 89, 90, 91, 92, 93, 94, 95, 96, 97, 98, 99, 100, 8, 64, 125, 216, 512, 1000, 1728, 2744, 3375, 4096, 5832, 8000, 10648, 13824, 15625, 17576, 21952, 27000, 32768, 39304, 42875, 46656, 54872, 64000, 74088, 85184, 91125, 97336, 110592, 125000, 140608, 157464, 166375, 175616, 195112, 216000, 238328, 262144, 274625, 287496, 314432, 343000, 373248, 405224, 421875, 438976, 474552, 512000, 551368, 592704, 614125, 636056, 681472, 729000, 778688, 830584, 857375, 884736, 941192, 1000000]\n"
     ]
    }
   ],
   "source": [
    "l=list(range(1,101))\n",
    "i=1\n",
    "while i < 101:\n",
    "    cube=i**3\n",
    "    if cube%4==0 or cube%5==0:\n",
    "        l.append(cube)\n",
    "    i+=1\n",
    "        \n",
    "print(l)"
   ]
  },
  {
   "cell_type": "code",
   "execution_count": 30,
   "id": "94453905-42c5-4f00-bae5-1a2017d8b531",
   "metadata": {},
   "outputs": [],
   "source": [
    "string = \"I want to become a data scientist\"\n"
   ]
  },
  {
   "cell_type": "code",
   "execution_count": 31,
   "id": "52efdd2a-3114-4e1a-aa4b-5d8845fefc0c",
   "metadata": {},
   "outputs": [
    {
     "data": {
      "text/plain": [
       "'i want to become a data scientist'"
      ]
     },
     "execution_count": 31,
     "metadata": {},
     "output_type": "execute_result"
    }
   ],
   "source": [
    "string.lower()"
   ]
  },
  {
   "cell_type": "code",
   "execution_count": 32,
   "id": "cf39b056-8f87-42ca-93bb-b7a904533f49",
   "metadata": {},
   "outputs": [
    {
     "data": {
      "text/plain": [
       "'I want to become a data scientist'"
      ]
     },
     "execution_count": 32,
     "metadata": {},
     "output_type": "execute_result"
    }
   ],
   "source": [
    "string"
   ]
  },
  {
   "cell_type": "code",
   "execution_count": 33,
   "id": "8d1f75ff-9157-4546-ae98-81bd33638e5f",
   "metadata": {},
   "outputs": [],
   "source": [
    "string=string.lower()"
   ]
  },
  {
   "cell_type": "code",
   "execution_count": 34,
   "id": "9d258d43-81e3-4b1d-ba91-6f0c58f15616",
   "metadata": {},
   "outputs": [
    {
     "data": {
      "text/plain": [
       "'i want to become a data scientist'"
      ]
     },
     "execution_count": 34,
     "metadata": {},
     "output_type": "execute_result"
    }
   ],
   "source": [
    "string"
   ]
  },
  {
   "cell_type": "code",
   "execution_count": 36,
   "id": "dd30a5b5-6b10-4f78-afa7-163bb32000b1",
   "metadata": {},
   "outputs": [],
   "source": [
    "l=string.split()\n"
   ]
  },
  {
   "cell_type": "code",
   "execution_count": 37,
   "id": "a1e9b213-0353-414f-82d1-65617cdc601e",
   "metadata": {},
   "outputs": [
    {
     "data": {
      "text/plain": [
       "['i', 'want', 'to', 'become', 'a', 'data', 'scientist']"
      ]
     },
     "execution_count": 37,
     "metadata": {},
     "output_type": "execute_result"
    }
   ],
   "source": [
    "l"
   ]
  },
  {
   "cell_type": "code",
   "execution_count": 42,
   "id": "9ea70e4a-df6f-4857-899b-3d92fdafed7c",
   "metadata": {},
   "outputs": [
    {
     "name": "stdout",
     "output_type": "stream",
     "text": [
      "12\n"
     ]
    }
   ],
   "source": [
    "string = \"I want to become a data scientist\"\n",
    "string=string.lower()\n",
    "count=0\n",
    "for i in string:\n",
    "    if i in ('a','e','i','o','u'):\n",
    "        count+=1\n",
    "print(count)"
   ]
  },
  {
   "cell_type": "code",
   "execution_count": null,
   "id": "771cb455-c0d4-489c-92c4-8ec73641221a",
   "metadata": {},
   "outputs": [],
   "source": []
  }
 ],
 "metadata": {
  "kernelspec": {
   "display_name": "Python 3 (ipykernel)",
   "language": "python",
   "name": "python3"
  },
  "language_info": {
   "codemirror_mode": {
    "name": "ipython",
    "version": 3
   },
   "file_extension": ".py",
   "mimetype": "text/x-python",
   "name": "python",
   "nbconvert_exporter": "python",
   "pygments_lexer": "ipython3",
   "version": "3.10.8"
  }
 },
 "nbformat": 4,
 "nbformat_minor": 5
}
