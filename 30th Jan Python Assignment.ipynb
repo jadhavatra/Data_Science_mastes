{
 "cells": [
  {
   "cell_type": "code",
   "execution_count": 2,
   "id": "78941feb-2b0a-4401-83b7-840a3c1088b4",
   "metadata": {},
   "outputs": [],
   "source": [
    "def get_grade():\n",
    "    marks=int(input(\"please enter your marks\"))\n",
    "    \n",
    "    if marks > 90:\n",
    "        print(\"you got A grade\")\n",
    "    elif marks > 80:\n",
    "        print(\"you got B grade\")\n",
    "    elif marks > 59:\n",
    "        print(\"you got C grade\")\n",
    "    else:\n",
    "        print(\"you got D grade\")\n",
    "    "
   ]
  },
  {
   "cell_type": "code",
   "execution_count": 9,
   "id": "62bdd85a-3249-4924-96db-1be9e8073d86",
   "metadata": {},
   "outputs": [
    {
     "name": "stdin",
     "output_type": "stream",
     "text": [
      "please enter your marks 100\n"
     ]
    },
    {
     "name": "stdout",
     "output_type": "stream",
     "text": [
      "you got A grade\n"
     ]
    }
   ],
   "source": [
    "get_grade()"
   ]
  },
  {
   "cell_type": "code",
   "execution_count": 12,
   "id": "5abdf98e-39a9-40a0-8f65-6ed59a79f228",
   "metadata": {},
   "outputs": [],
   "source": [
    "def tax_paid():\n",
    "    bike_price=int(input(\"plese enter bike price\"))\n",
    "    \n",
    "    if bike_price > 100000:\n",
    "        return .15*bike_price\n",
    "    elif bike_price > 40000:\n",
    "        return .1*bike_price\n",
    "    else:\n",
    "        return .05*bike_price"
   ]
  },
  {
   "cell_type": "code",
   "execution_count": 13,
   "id": "d2a56078-fd5d-433f-a048-38c957fb4246",
   "metadata": {},
   "outputs": [
    {
     "name": "stdin",
     "output_type": "stream",
     "text": [
      "plese enter bike price 102345\n"
     ]
    },
    {
     "data": {
      "text/plain": [
       "15351.75"
      ]
     },
     "execution_count": 13,
     "metadata": {},
     "output_type": "execute_result"
    }
   ],
   "source": [
    "tax_paid()"
   ]
  },
  {
   "cell_type": "code",
   "execution_count": 15,
   "id": "f2330381-001f-4492-be92-a23aefe5a874",
   "metadata": {},
   "outputs": [
    {
     "name": "stdin",
     "output_type": "stream",
     "text": [
      "please enter city name Agra\n"
     ]
    },
    {
     "name": "stdout",
     "output_type": "stream",
     "text": [
      "monument of city is TAJ MAHAL\n"
     ]
    }
   ],
   "source": [
    "city_name=input(\"please enter city name\")\n",
    "\n",
    "if city_name.lower()==\"delhi\":\n",
    "    print(\"monumrnt of city is RED FORT\")\n",
    "elif city_name.lower() == \"agra\":\n",
    "    print(\"monument of city is TAJ MAHAL\")\n",
    "elif city_name.lower() == \"jaipur\":\n",
    "    print(\"monumnet of city is JAL MAHAL\")\n",
    "else:\n",
    "    print(\"wrong city name\")"
   ]
  },
  {
   "cell_type": "code",
   "execution_count": 16,
   "id": "fb304348-9f3d-4b82-a97a-acccd73efede",
   "metadata": {},
   "outputs": [],
   "source": [
    "###5. why and when to use while loop in python give\n",
    "###give detailed description with example"
   ]
  },
  {
   "cell_type": "code",
   "execution_count": 18,
   "id": "e0982b1d-4c35-47a7-8647-54e2356c6517",
   "metadata": {},
   "outputs": [],
   "source": [
    "###repete a code untill certain condition is true\n",
    "##eg"
   ]
  },
  {
   "cell_type": "code",
   "execution_count": 19,
   "id": "450e3101-fc7a-4193-a2be-11bbe81f72b3",
   "metadata": {},
   "outputs": [
    {
     "name": "stdout",
     "output_type": "stream",
     "text": [
      "1\n",
      "2\n",
      "3\n",
      "4\n"
     ]
    }
   ],
   "source": [
    "no=1\n",
    "while no < 5:\n",
    "    print(no)\n",
    "    no+=1"
   ]
  },
  {
   "cell_type": "code",
   "execution_count": 20,
   "id": "8b092a0a-08ac-49c8-8d1e-37a7745b049b",
   "metadata": {},
   "outputs": [],
   "source": [
    "##use nested while loop to print 3 differnt patterns"
   ]
  },
  {
   "cell_type": "code",
   "execution_count": 3,
   "id": "76f6fce0-c9de-4d7b-b7da-dd8edabb26eb",
   "metadata": {},
   "outputs": [
    {
     "name": "stdout",
     "output_type": "stream",
     "text": [
      "* * * * * \n",
      "* * * * * \n",
      "* * * * * \n",
      "* * * * * \n",
      "* * * * * \n"
     ]
    }
   ],
   "source": [
    "max_width,max_height=5,5\n",
    "height=0\n",
    "while height < max_height:\n",
    "    width=0\n",
    "    while width < max_width:\n",
    "        print(\"*\",end=\" \")\n",
    "        width+=1\n",
    "    print()\n",
    "    height+=1"
   ]
  },
  {
   "cell_type": "code",
   "execution_count": 5,
   "id": "ba841ace-6631-45f0-8850-d1decbfcb87b",
   "metadata": {},
   "outputs": [
    {
     "name": "stdout",
     "output_type": "stream",
     "text": [
      "* \n",
      "* * \n",
      "* * * \n",
      "* * * * \n",
      "* * * * * \n"
     ]
    }
   ],
   "source": [
    "max_width,max_height=5,5\n",
    "height=0\n",
    "while height < max_height:\n",
    "    width=0\n",
    "    while width <= height:\n",
    "        print(\"*\",end=\" \")\n",
    "        width+=1\n",
    "    print()\n",
    "    height+=1"
   ]
  },
  {
   "cell_type": "code",
   "execution_count": 14,
   "id": "38e344b5-69c9-4739-aa99-d0b4942d411a",
   "metadata": {},
   "outputs": [
    {
     "name": "stdout",
     "output_type": "stream",
     "text": [
      "        * \n",
      "      * * * \n",
      "    * * * * * \n",
      "  * * * * * * * \n",
      "* * * * * * * * * \n"
     ]
    }
   ],
   "source": [
    "max_height=5\n",
    "height=1\n",
    "while height <= max_height:\n",
    "    width=1\n",
    "    while width <= max_height-height:\n",
    "        print(\" \",end=\" \")\n",
    "        width+=1\n",
    "    width=1\n",
    "    while width <= (2*height)-1:\n",
    "        print(\"*\",end=\" \")\n",
    "        width+=1\n",
    "    print()\n",
    "    height+=1"
   ]
  },
  {
   "cell_type": "code",
   "execution_count": 1,
   "id": "f29e86ef-9c5b-414d-ba4d-dac39c95f8c2",
   "metadata": {},
   "outputs": [],
   "source": [
    "####reverse a while loop to print no from 10 to 1"
   ]
  },
  {
   "cell_type": "code",
   "execution_count": 2,
   "id": "2f9c0b9d-40b1-4f80-bb96-3576157d8ee1",
   "metadata": {},
   "outputs": [
    {
     "name": "stdout",
     "output_type": "stream",
     "text": [
      "10\n",
      "9\n",
      "8\n",
      "7\n",
      "6\n",
      "5\n",
      "4\n",
      "3\n",
      "2\n",
      "1\n"
     ]
    }
   ],
   "source": [
    "i=10\n",
    "while i > 0:\n",
    "    print(i)\n",
    "    i-=1"
   ]
  },
  {
   "cell_type": "code",
   "execution_count": null,
   "id": "d0a6e594-2f84-4a73-97d7-c1ab5afae5c6",
   "metadata": {},
   "outputs": [],
   "source": []
  }
 ],
 "metadata": {
  "kernelspec": {
   "display_name": "Python 3 (ipykernel)",
   "language": "python",
   "name": "python3"
  },
  "language_info": {
   "codemirror_mode": {
    "name": "ipython",
    "version": 3
   },
   "file_extension": ".py",
   "mimetype": "text/x-python",
   "name": "python",
   "nbconvert_exporter": "python",
   "pygments_lexer": "ipython3",
   "version": "3.10.8"
  }
 },
 "nbformat": 4,
 "nbformat_minor": 5
}
