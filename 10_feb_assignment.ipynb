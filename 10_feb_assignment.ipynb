{
 "cells": [
  {
   "cell_type": "code",
   "execution_count": 1,
   "id": "9ef77552-cd40-4591-9228-78469f98f363",
   "metadata": {},
   "outputs": [
    {
     "data": {
      "text/plain": [
       "'Q1. Which function is used to open a file? What are the different modes of opening a file? Explain each mode\\nof file opening.'"
      ]
     },
     "execution_count": 1,
     "metadata": {},
     "output_type": "execute_result"
    }
   ],
   "source": [
    "'''Q1. Which function is used to open a file? What are the different modes of opening a file? Explain each mode\n",
    "of file opening.'''"
   ]
  },
  {
   "cell_type": "code",
   "execution_count": 2,
   "id": "593bd14c-514f-40d0-8a8f-adef72acfca3",
   "metadata": {},
   "outputs": [],
   "source": [
    "###to open a file open(\"filename\",\"mode\") function is used"
   ]
  },
  {
   "cell_type": "code",
   "execution_count": 8,
   "id": "b044e167-fd26-41d7-83cc-030d3c23ad52",
   "metadata": {},
   "outputs": [],
   "source": [
    "###different modes to open a file  \n",
    "### r for file reading\n",
    "### w for file writing previous file truncated\n",
    "### a for appending file\n",
    "## x create new file and open it for writing"
   ]
  },
  {
   "cell_type": "code",
   "execution_count": 9,
   "id": "1c6a56ed-27b9-46f4-bafa-16c9a2681fb2",
   "metadata": {},
   "outputs": [
    {
     "data": {
      "text/plain": [
       "'Q2. Why close() function is used? Why is it important to close a file?'"
      ]
     },
     "execution_count": 9,
     "metadata": {},
     "output_type": "execute_result"
    }
   ],
   "source": [
    "'''Q2. Why close() function is used? Why is it important to close a file?'''"
   ]
  },
  {
   "cell_type": "code",
   "execution_count": null,
   "id": "fc2f59ed-db63-4e14-a47f-0f53b570d0a9",
   "metadata": {},
   "outputs": [],
   "source": []
  },
  {
   "cell_type": "code",
   "execution_count": 10,
   "id": "0157d461-11dd-42db-8d72-2d6eb66e3899",
   "metadata": {},
   "outputs": [],
   "source": [
    "###close() is used to close file and save file.\n",
    "###Resource management Data integrity: File locks and access:\n",
    "###file do not get dave until we close the file"
   ]
  },
  {
   "cell_type": "code",
   "execution_count": 11,
   "id": "fda319fb-9c96-4116-9bc0-e10490a2e53a",
   "metadata": {},
   "outputs": [
    {
     "data": {
      "text/plain": [
       "'Q3. Write a python program to create a text file. Write ‘I want to become a Data Scientist’ in that file. Then\\nclose the file. Open this file and read the content of the file.'"
      ]
     },
     "execution_count": 11,
     "metadata": {},
     "output_type": "execute_result"
    }
   ],
   "source": [
    "'''Q3. Write a python program to create a text file. Write ‘I want to become a Data Scientist’ in that file. Then\n",
    "close the file. Open this file and read the content of the file.'''"
   ]
  },
  {
   "cell_type": "code",
   "execution_count": 30,
   "id": "f12fe054-baa0-4895-b3af-f4e14c937ed3",
   "metadata": {},
   "outputs": [],
   "source": [
    "with open(\"data_sciencetist.txt\",'w') as f:\n",
    "    f.write('I want to become a Data Scientist')"
   ]
  },
  {
   "cell_type": "code",
   "execution_count": 31,
   "id": "5856a9f8-8a37-41d3-8245-9a6a04c889cb",
   "metadata": {},
   "outputs": [
    {
     "name": "stdout",
     "output_type": "stream",
     "text": [
      "I want to become a Data Scientist\n"
     ]
    }
   ],
   "source": [
    "with open(\"data_sciencetist.txt\",'r') as f:\n",
    "    print(f.read())"
   ]
  },
  {
   "cell_type": "code",
   "execution_count": 32,
   "id": "70d59430-2c1e-4237-91f1-86b92274bc62",
   "metadata": {},
   "outputs": [],
   "source": [
    "###Q4. Explain the following with python code: read(), readline() and readlines()."
   ]
  },
  {
   "cell_type": "code",
   "execution_count": 33,
   "id": "c4fd6351-7359-4b65-b7b2-6c1e39e431b7",
   "metadata": {},
   "outputs": [],
   "source": [
    "f=open(\"abc.txt\",'w')"
   ]
  },
  {
   "cell_type": "code",
   "execution_count": 35,
   "id": "3ba7082b-0713-437f-8356-a4b4e9a9a565",
   "metadata": {},
   "outputs": [
    {
     "data": {
      "text/plain": [
       "60"
      ]
     },
     "execution_count": 35,
     "metadata": {},
     "output_type": "execute_result"
    }
   ],
   "source": [
    "f.write('this is first line\\nthis is second line \\nthis is third line \\n')"
   ]
  },
  {
   "cell_type": "code",
   "execution_count": 36,
   "id": "c0bbedcb-883f-4af0-b66a-6c98e8c06202",
   "metadata": {},
   "outputs": [],
   "source": [
    "f.close()"
   ]
  },
  {
   "cell_type": "code",
   "execution_count": 38,
   "id": "c26a37e1-95e5-4595-9ac5-f04c125a18e8",
   "metadata": {},
   "outputs": [],
   "source": [
    "f=open(\"abc.txt\",'r')"
   ]
  },
  {
   "cell_type": "code",
   "execution_count": 39,
   "id": "a0a5cb5d-efe9-4108-b9c0-23a70791c8c0",
   "metadata": {},
   "outputs": [],
   "source": [
    "all_lines=f.read()"
   ]
  },
  {
   "cell_type": "code",
   "execution_count": 40,
   "id": "f88c0aff-fa32-48ca-bda8-af23cc69d77c",
   "metadata": {},
   "outputs": [
    {
     "name": "stdout",
     "output_type": "stream",
     "text": [
      "this is first line\n",
      "this is second line \n",
      "this is third line \n",
      "\n"
     ]
    }
   ],
   "source": [
    "print(all_lines)"
   ]
  },
  {
   "cell_type": "code",
   "execution_count": 41,
   "id": "151583b5-3ea3-4d05-8a41-01fbf491cd13",
   "metadata": {},
   "outputs": [],
   "source": [
    "###this print all lines"
   ]
  },
  {
   "cell_type": "code",
   "execution_count": 42,
   "id": "c6e44d0e-5cf7-48b9-8ba7-2791d07b6ff5",
   "metadata": {},
   "outputs": [
    {
     "data": {
      "text/plain": [
       "0"
      ]
     },
     "execution_count": 42,
     "metadata": {},
     "output_type": "execute_result"
    }
   ],
   "source": [
    "f.seek(0)"
   ]
  },
  {
   "cell_type": "code",
   "execution_count": 43,
   "id": "449385df-c6a2-4a67-8076-2edf2067c0c8",
   "metadata": {},
   "outputs": [
    {
     "name": "stdout",
     "output_type": "stream",
     "text": [
      "this is first line\n",
      "\n"
     ]
    }
   ],
   "source": [
    "print(f.readline())"
   ]
  },
  {
   "cell_type": "code",
   "execution_count": 44,
   "id": "82bd10bb-7093-4ab7-8147-b275000243fd",
   "metadata": {},
   "outputs": [
    {
     "name": "stdout",
     "output_type": "stream",
     "text": [
      "this is second line \n",
      "\n"
     ]
    }
   ],
   "source": [
    "print(f.readline())"
   ]
  },
  {
   "cell_type": "code",
   "execution_count": 45,
   "id": "9ee9b566-85d1-4bc4-8cf2-7b5d0418faf5",
   "metadata": {},
   "outputs": [
    {
     "name": "stdout",
     "output_type": "stream",
     "text": [
      "this is third line \n",
      "\n"
     ]
    }
   ],
   "source": [
    "print(f.readline())"
   ]
  },
  {
   "cell_type": "code",
   "execution_count": 46,
   "id": "9995a104-a6c6-4ff1-873f-cd88dd88d1f6",
   "metadata": {},
   "outputs": [],
   "source": [
    "###this gives each line seperatly"
   ]
  },
  {
   "cell_type": "code",
   "execution_count": 48,
   "id": "cb53b11e-8dc9-4c47-856b-5aceb40d87a4",
   "metadata": {},
   "outputs": [
    {
     "data": {
      "text/plain": [
       "0"
      ]
     },
     "execution_count": 48,
     "metadata": {},
     "output_type": "execute_result"
    }
   ],
   "source": [
    "f.seek(0)"
   ]
  },
  {
   "cell_type": "code",
   "execution_count": 49,
   "id": "c1ff3cb6-3ec7-4fa5-af3c-0bc6d01da85b",
   "metadata": {},
   "outputs": [],
   "source": [
    "lines=f.readlines()"
   ]
  },
  {
   "cell_type": "code",
   "execution_count": 50,
   "id": "fe6132eb-efe0-4992-8675-2870b69b42c4",
   "metadata": {},
   "outputs": [
    {
     "name": "stdout",
     "output_type": "stream",
     "text": [
      "this is first line\n",
      "\n",
      "this is second line \n",
      "\n",
      "this is third line \n",
      "\n"
     ]
    }
   ],
   "source": [
    "for i in lines:\n",
    "    print(i)"
   ]
  },
  {
   "cell_type": "code",
   "execution_count": 51,
   "id": "fe183780-7e8d-486e-97f3-33138b5d7029",
   "metadata": {},
   "outputs": [],
   "source": [
    "###all lines stored in list"
   ]
  },
  {
   "cell_type": "code",
   "execution_count": 52,
   "id": "8096c3ce-12b5-43c6-b361-4488c2578123",
   "metadata": {},
   "outputs": [
    {
     "data": {
      "text/plain": [
       "'Q5. Explain why with statement is used with open(). What is the advantage of using with statement and\\nopen() together?'"
      ]
     },
     "execution_count": 52,
     "metadata": {},
     "output_type": "execute_result"
    }
   ],
   "source": [
    "'''Q5. Explain why with statement is used with open(). What is the advantage of using with statement and\n",
    "open() together?'''"
   ]
  },
  {
   "cell_type": "code",
   "execution_count": 53,
   "id": "45ea1c5d-2146-48be-98d3-89e77def48bc",
   "metadata": {},
   "outputs": [],
   "source": [
    "###no need to use close statement,as file closes automatically \n",
    "###when we use \"with open(\"filename\",'r')\""
   ]
  },
  {
   "cell_type": "code",
   "execution_count": 54,
   "id": "01aa5260-4ab7-4a02-91f5-c6b4cd09e17f",
   "metadata": {},
   "outputs": [
    {
     "data": {
      "text/plain": [
       "'Q6. Explain the write() and writelines() functions. Give a suitable example.'"
      ]
     },
     "execution_count": 54,
     "metadata": {},
     "output_type": "execute_result"
    }
   ],
   "source": [
    "'''Q6. Explain the write() and writelines() functions. Give a suitable example.'''\n"
   ]
  },
  {
   "cell_type": "code",
   "execution_count": 56,
   "id": "4a68b8c6-7761-4cd1-8c28-16204773cb8e",
   "metadata": {},
   "outputs": [],
   "source": [
    "###write is used to store plain text into a file\n",
    "###writeline is used to store multiple strings (usually stored in \n",
    "###list or tuple ) into a file"
   ]
  },
  {
   "cell_type": "code",
   "execution_count": null,
   "id": "78479b9c-9767-4baa-85ff-827906b6b2a3",
   "metadata": {},
   "outputs": [],
   "source": []
  }
 ],
 "metadata": {
  "kernelspec": {
   "display_name": "Python 3 (ipykernel)",
   "language": "python",
   "name": "python3"
  },
  "language_info": {
   "codemirror_mode": {
    "name": "ipython",
    "version": 3
   },
   "file_extension": ".py",
   "mimetype": "text/x-python",
   "name": "python",
   "nbconvert_exporter": "python",
   "pygments_lexer": "ipython3",
   "version": "3.10.8"
  }
 },
 "nbformat": 4,
 "nbformat_minor": 5
}
