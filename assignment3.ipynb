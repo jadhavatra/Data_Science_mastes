{
 "cells": [
  {
   "cell_type": "code",
   "execution_count": 1,
   "id": "bfd00c2a-5336-4320-a14c-83c36cfe3453",
   "metadata": {},
   "outputs": [],
   "source": [
    "##Q1. Create a python program to sort the given list of tuples based on integer value using a\n",
    "##lambda function.\n",
    "##[('Sachin Tendulkar', 34357), ('Ricky Ponting', 27483), ('Jack Kallis', 25534), ('Virat Kohli', 24936)]"
   ]
  },
  {
   "cell_type": "code",
   "execution_count": 2,
   "id": "c4ec50a1-1cb4-49d2-830b-39544c7880dc",
   "metadata": {},
   "outputs": [],
   "source": [
    "l=[('Sachin Tendulkar', 34357), ('Ricky Ponting', 27483), ('Jack Kallis', 25534), ('Virat Kohli', 24936)]"
   ]
  },
  {
   "cell_type": "code",
   "execution_count": 3,
   "id": "62006893-2c7b-4107-8ce0-17e24edf01d7",
   "metadata": {},
   "outputs": [],
   "source": [
    "sorted_data = sorted(l, key=lambda x: x[1])"
   ]
  },
  {
   "cell_type": "code",
   "execution_count": 4,
   "id": "97c6352e-942b-44b8-b72c-16751d67caa4",
   "metadata": {},
   "outputs": [
    {
     "data": {
      "text/plain": [
       "[('Virat Kohli', 24936),\n",
       " ('Jack Kallis', 25534),\n",
       " ('Ricky Ponting', 27483),\n",
       " ('Sachin Tendulkar', 34357)]"
      ]
     },
     "execution_count": 4,
     "metadata": {},
     "output_type": "execute_result"
    }
   ],
   "source": [
    "sorted_data"
   ]
  },
  {
   "cell_type": "code",
   "execution_count": 5,
   "id": "8ebd76cd-454e-4045-a2ba-2600e271b803",
   "metadata": {},
   "outputs": [],
   "source": [
    "##Q2. Write a Python Program to find the squares of all the numbers in the given list of integers using\n",
    "###lambda and map functions.\n",
    "###[1, 2, 3, 4, 5, 6, 7, 8, 9, 10]"
   ]
  },
  {
   "cell_type": "code",
   "execution_count": 6,
   "id": "8c9adb2e-30ab-4822-b5c9-0e68bce435a0",
   "metadata": {},
   "outputs": [
    {
     "data": {
      "text/plain": [
       "[1, 4, 9, 16, 25, 36, 49, 64, 81, 100]"
      ]
     },
     "execution_count": 6,
     "metadata": {},
     "output_type": "execute_result"
    }
   ],
   "source": [
    "l1=[1, 2, 3, 4, 5, 6, 7, 8, 9, 10]\n",
    "list(map(lambda x:x**2,l1))"
   ]
  },
  {
   "cell_type": "code",
   "execution_count": 7,
   "id": "b97d0d0a-6f1d-4b01-81fc-bdb1ab3e8255",
   "metadata": {},
   "outputs": [],
   "source": [
    "##Q3. Write a python program to convert the given list of integers into a tuple of strings. Use map and\n",
    "## lambda functions\n",
    "##Given String: [1, 2, 3, 4, 5, 6, 7, 8, 9, 10]\n",
    "##Expected output: ('1', '2', '3', '4', '5', '6', '7', '8', '9', '10')"
   ]
  },
  {
   "cell_type": "code",
   "execution_count": 8,
   "id": "69071562-ba8c-4907-80fb-b06cce74dfcc",
   "metadata": {},
   "outputs": [],
   "source": [
    "l2=[1, 2, 3, 4, 5, 6, 7, 8, 9, 10]"
   ]
  },
  {
   "cell_type": "code",
   "execution_count": 10,
   "id": "538d86c6-bda2-4ce7-b849-447593e11487",
   "metadata": {},
   "outputs": [
    {
     "data": {
      "text/plain": [
       "('1', '2', '3', '4', '5', '6', '7', '8', '9', '10')"
      ]
     },
     "execution_count": 10,
     "metadata": {},
     "output_type": "execute_result"
    }
   ],
   "source": [
    "tuple(map(lambda x:str(x),l2))"
   ]
  },
  {
   "cell_type": "code",
   "execution_count": 11,
   "id": "bd7d195a-aa69-4930-bc89-ad98652f3bf1",
   "metadata": {},
   "outputs": [],
   "source": [
    "##Q4. Write a python program using reduce function to compute the product of a list containing numbers\n",
    "##from 1 to 25."
   ]
  },
  {
   "cell_type": "code",
   "execution_count": 12,
   "id": "b76b722d-648a-40c2-b523-4bec75970b95",
   "metadata": {},
   "outputs": [],
   "source": [
    "l3=[i for i in range(1,26)]"
   ]
  },
  {
   "cell_type": "code",
   "execution_count": 17,
   "id": "db97324c-00e8-47a7-8f20-e504be3ed947",
   "metadata": {},
   "outputs": [
    {
     "data": {
      "text/plain": [
       "15511210043330985984000000"
      ]
     },
     "execution_count": 17,
     "metadata": {},
     "output_type": "execute_result"
    }
   ],
   "source": [
    "from functools import reduce\n",
    "reduce(lambda x,y:x*y,l3)"
   ]
  },
  {
   "cell_type": "code",
   "execution_count": 15,
   "id": "4b5a433a-4f45-4b73-9a99-0c488c6870e5",
   "metadata": {},
   "outputs": [
    {
     "data": {
      "text/plain": [
       "[1,\n",
       " 2,\n",
       " 3,\n",
       " 4,\n",
       " 5,\n",
       " 6,\n",
       " 7,\n",
       " 8,\n",
       " 9,\n",
       " 10,\n",
       " 11,\n",
       " 12,\n",
       " 13,\n",
       " 14,\n",
       " 15,\n",
       " 16,\n",
       " 17,\n",
       " 18,\n",
       " 19,\n",
       " 20,\n",
       " 21,\n",
       " 22,\n",
       " 23,\n",
       " 24,\n",
       " 25]"
      ]
     },
     "execution_count": 15,
     "metadata": {},
     "output_type": "execute_result"
    }
   ],
   "source": [
    "l3"
   ]
  },
  {
   "cell_type": "code",
   "execution_count": 18,
   "id": "9b3c14d2-4067-48c2-ba5a-8d5efb2c2200",
   "metadata": {},
   "outputs": [],
   "source": [
    "###Q5. Write a python program to filter the numbers in a given list that are divisible by 2 and 3 using the\n",
    "##filter function.\n",
    "##[2, 3, 6, 9, 27, 60, 90, 120, 55, 46]"
   ]
  },
  {
   "cell_type": "code",
   "execution_count": 19,
   "id": "2ca7c7b6-a2d3-4ba2-9f25-16080f85418c",
   "metadata": {},
   "outputs": [],
   "source": [
    "l4=[2, 3, 6, 9, 27, 60, 90, 120, 55, 46]"
   ]
  },
  {
   "cell_type": "code",
   "execution_count": 20,
   "id": "f80f55b8-3123-4e8d-98cd-198f33f89aee",
   "metadata": {},
   "outputs": [
    {
     "data": {
      "text/plain": [
       "[6, 60, 90, 120]"
      ]
     },
     "execution_count": 20,
     "metadata": {},
     "output_type": "execute_result"
    }
   ],
   "source": [
    "list(filter(lambda x:x%2==0 and x%3==0,l4))"
   ]
  },
  {
   "cell_type": "code",
   "execution_count": 21,
   "id": "007014af-d1ca-4731-8e66-5503e18348e8",
   "metadata": {},
   "outputs": [],
   "source": [
    "###Q6. Write a python program to find palindromes in the given list of strings using lambda and filter\n",
    "##function.\n",
    "###['python', 'php', 'aba', 'radar', 'level']"
   ]
  },
  {
   "cell_type": "code",
   "execution_count": 22,
   "id": "40679d46-ceaf-430d-83da-1be922413f77",
   "metadata": {},
   "outputs": [],
   "source": [
    "l5=['python', 'php', 'aba', 'radar', 'level']"
   ]
  },
  {
   "cell_type": "code",
   "execution_count": 24,
   "id": "8d6d8a38-c152-412f-a5eb-34f369e19978",
   "metadata": {},
   "outputs": [
    {
     "data": {
      "text/plain": [
       "['php', 'aba', 'radar', 'level']"
      ]
     },
     "execution_count": 24,
     "metadata": {},
     "output_type": "execute_result"
    }
   ],
   "source": [
    "list(filter(lambda x:x==x[::-1],l5))"
   ]
  },
  {
   "cell_type": "code",
   "execution_count": null,
   "id": "2f0dc45f-72b4-4c46-9642-77d125b1647b",
   "metadata": {},
   "outputs": [],
   "source": []
  }
 ],
 "metadata": {
  "kernelspec": {
   "display_name": "Python 3 (ipykernel)",
   "language": "python",
   "name": "python3"
  },
  "language_info": {
   "codemirror_mode": {
    "name": "ipython",
    "version": 3
   },
   "file_extension": ".py",
   "mimetype": "text/x-python",
   "name": "python",
   "nbconvert_exporter": "python",
   "pygments_lexer": "ipython3",
   "version": "3.10.8"
  }
 },
 "nbformat": 4,
 "nbformat_minor": 5
}
