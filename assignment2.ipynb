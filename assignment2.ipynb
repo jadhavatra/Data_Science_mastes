{
 "cells": [
  {
   "cell_type": "code",
   "execution_count": 1,
   "id": "8273deab-99e7-4a83-8453-c5a64251a858",
   "metadata": {},
   "outputs": [],
   "source": [
    "#Q1. Which keyword is used to create a function? Create a function to return a list of odd numbers in the\n",
    "#range of 1 to 25."
   ]
  },
  {
   "cell_type": "code",
   "execution_count": 2,
   "id": "58d82ceb-e4df-485e-b032-73406d3bc96c",
   "metadata": {},
   "outputs": [],
   "source": [
    "#def used"
   ]
  },
  {
   "cell_type": "code",
   "execution_count": 3,
   "id": "14339704-4fe1-4b81-9c73-5265082daf36",
   "metadata": {},
   "outputs": [],
   "source": [
    "def odd_num():\n",
    "    l=[]\n",
    "    for i in range(1,26):\n",
    "        if i%2!=0:\n",
    "            l.append(i)\n",
    "    return l"
   ]
  },
  {
   "cell_type": "code",
   "execution_count": 4,
   "id": "0b9c53dc-f9f4-4b10-b1e1-5d8aa5a5b549",
   "metadata": {},
   "outputs": [
    {
     "data": {
      "text/plain": [
       "[1, 3, 5, 7, 9, 11, 13, 15, 17, 19, 21, 23, 25]"
      ]
     },
     "execution_count": 4,
     "metadata": {},
     "output_type": "execute_result"
    }
   ],
   "source": [
    "odd_num()"
   ]
  },
  {
   "cell_type": "code",
   "execution_count": 5,
   "id": "4e079429-2ce2-429a-a421-cc70d3e0cf04",
   "metadata": {},
   "outputs": [
    {
     "data": {
      "text/plain": [
       "'Q2. Why *args and **kwargs is used in some functions? Create a function each for *args and **kwargs\\nto demonstrate their use.'"
      ]
     },
     "execution_count": 5,
     "metadata": {},
     "output_type": "execute_result"
    }
   ],
   "source": [
    "\"\"\"Q2. Why *args and **kwargs is used in some functions? Create a function each for *args and **kwargs\n",
    "to demonstrate their use.\"\"\""
   ]
  },
  {
   "cell_type": "code",
   "execution_count": 6,
   "id": "253e8639-3595-4caf-b963-5b5060a43891",
   "metadata": {},
   "outputs": [],
   "source": [
    "###*args is used to pass no of argumrnts to function(when no of arguments are not fixed)"
   ]
  },
  {
   "cell_type": "code",
   "execution_count": 7,
   "id": "1a50ca5c-1685-4be1-8d8f-0a7ad9efc8a1",
   "metadata": {},
   "outputs": [],
   "source": [
    "###**kwargs is used for same pupose bit passed arguments are in key value format"
   ]
  },
  {
   "cell_type": "code",
   "execution_count": 9,
   "id": "2f91470f-a73c-4e7f-9b6e-9502c8bec84b",
   "metadata": {},
   "outputs": [],
   "source": [
    "def no_of_args(*ani):\n",
    "    return ani"
   ]
  },
  {
   "cell_type": "code",
   "execution_count": 10,
   "id": "1aab5faf-96f4-4fc9-ab9b-8734dbd1b00f",
   "metadata": {},
   "outputs": [
    {
     "data": {
      "text/plain": [
       "(34, 23, 54, 'aniket')"
      ]
     },
     "execution_count": 10,
     "metadata": {},
     "output_type": "execute_result"
    }
   ],
   "source": [
    "no_of_args(34,23,54,\"aniket\")"
   ]
  },
  {
   "cell_type": "code",
   "execution_count": 11,
   "id": "191fb329-6fb2-4448-ab67-5931d36d157a",
   "metadata": {},
   "outputs": [],
   "source": [
    "def kwargs_use(**kwargs):\n",
    "    return kwargs"
   ]
  },
  {
   "cell_type": "code",
   "execution_count": 14,
   "id": "e1bde3c5-b69d-4297-a470-7dbeeb780444",
   "metadata": {},
   "outputs": [
    {
     "data": {
      "text/plain": [
       "{'name': 'aniket', 'age': 27, 'city': 'Mumbai'}"
      ]
     },
     "execution_count": 14,
     "metadata": {},
     "output_type": "execute_result"
    }
   ],
   "source": [
    "kwargs_use(name=\"aniket\",age=27,city=\"Mumbai\")"
   ]
  },
  {
   "cell_type": "code",
   "execution_count": 1,
   "id": "10f67b02-a404-47c9-96e5-9db3cbe8fffc",
   "metadata": {},
   "outputs": [],
   "source": [
    "#Q3. What is an iterator in python? Name the method used to initialise the iterator object and the method\n",
    "#used for iteration. Use these methods to print the first five elements of the given list [2, 4, 6, 8, 10, 12, 14,\n",
    "#16, 18, 20]."
   ]
  },
  {
   "cell_type": "code",
   "execution_count": 2,
   "id": "86a6c1f0-cb57-4dbf-94f3-6deff8bc24a4",
   "metadata": {},
   "outputs": [],
   "source": [
    "#iterator allows you to iterate through elements one by one untill last element then error comes"
   ]
  },
  {
   "cell_type": "code",
   "execution_count": 3,
   "id": "aa95ef21-da9b-440f-89ef-0ae961845f2b",
   "metadata": {},
   "outputs": [],
   "source": [
    "#to intiate iter()"
   ]
  },
  {
   "cell_type": "code",
   "execution_count": 4,
   "id": "5c9a58d1-8666-4cb1-aab1-7e9fa8ef0b78",
   "metadata": {},
   "outputs": [],
   "source": [
    "#method for iteration next()"
   ]
  },
  {
   "cell_type": "code",
   "execution_count": 5,
   "id": "2acf42c6-0a75-412b-a2a1-6e36e300f40a",
   "metadata": {},
   "outputs": [],
   "source": [
    "l1=[i for i in range(1,21) if i%2==0]"
   ]
  },
  {
   "cell_type": "code",
   "execution_count": 6,
   "id": "5f2758db-bee5-4f45-aaf6-c6f4f3d4220d",
   "metadata": {},
   "outputs": [
    {
     "data": {
      "text/plain": [
       "[2, 4, 6, 8, 10, 12, 14, 16, 18, 20]"
      ]
     },
     "execution_count": 6,
     "metadata": {},
     "output_type": "execute_result"
    }
   ],
   "source": [
    "l1"
   ]
  },
  {
   "cell_type": "code",
   "execution_count": 8,
   "id": "a58f9c12-8190-42a2-bf24-422454da2f2a",
   "metadata": {},
   "outputs": [],
   "source": [
    "l=iter(l1)"
   ]
  },
  {
   "cell_type": "code",
   "execution_count": 10,
   "id": "57868a4b-bd58-418e-9ef3-6001776be366",
   "metadata": {},
   "outputs": [
    {
     "data": {
      "text/plain": [
       "2"
      ]
     },
     "execution_count": 10,
     "metadata": {},
     "output_type": "execute_result"
    }
   ],
   "source": [
    "next(l)"
   ]
  },
  {
   "cell_type": "code",
   "execution_count": 11,
   "id": "4cb06063-73c7-41b1-96b5-3d323e15099d",
   "metadata": {},
   "outputs": [
    {
     "data": {
      "text/plain": [
       "4"
      ]
     },
     "execution_count": 11,
     "metadata": {},
     "output_type": "execute_result"
    }
   ],
   "source": [
    "next(l)"
   ]
  },
  {
   "cell_type": "code",
   "execution_count": 12,
   "id": "ad6f8d26-8834-4c4a-b1a7-87e261823e64",
   "metadata": {},
   "outputs": [
    {
     "data": {
      "text/plain": [
       "6"
      ]
     },
     "execution_count": 12,
     "metadata": {},
     "output_type": "execute_result"
    }
   ],
   "source": [
    "next(l)"
   ]
  },
  {
   "cell_type": "code",
   "execution_count": 13,
   "id": "e7dc8fc2-c4f1-4896-9a04-0cbc02251a08",
   "metadata": {},
   "outputs": [
    {
     "data": {
      "text/plain": [
       "8"
      ]
     },
     "execution_count": 13,
     "metadata": {},
     "output_type": "execute_result"
    }
   ],
   "source": [
    "next(l)"
   ]
  },
  {
   "cell_type": "code",
   "execution_count": 14,
   "id": "8f300196-0cfa-493d-ab5a-ab4d42e035a7",
   "metadata": {},
   "outputs": [
    {
     "data": {
      "text/plain": [
       "10"
      ]
     },
     "execution_count": 14,
     "metadata": {},
     "output_type": "execute_result"
    }
   ],
   "source": [
    "next(l)"
   ]
  },
  {
   "cell_type": "code",
   "execution_count": 15,
   "id": "42772d77-9303-4beb-abc9-a127797eb5b0",
   "metadata": {},
   "outputs": [],
   "source": [
    "#Q4. What is a generator function in python? Why yield keyword is used? Give an example of a generator\n",
    "#function."
   ]
  },
  {
   "cell_type": "code",
   "execution_count": 16,
   "id": "696f7ee2-1774-421b-9a29-9be7d58f276e",
   "metadata": {},
   "outputs": [],
   "source": [
    "#generator function is used to return values one by one insted of providing all solution at once "
   ]
  },
  {
   "cell_type": "code",
   "execution_count": 17,
   "id": "a202c2a0-be93-4aa6-b514-cff8a5436d16",
   "metadata": {},
   "outputs": [],
   "source": [
    "#used for memory optimization.when you need billion values from a function\n",
    "#insted of creating list of billion values which will occupy large memory space generator provides values one by \n",
    "#one"
   ]
  },
  {
   "cell_type": "code",
   "execution_count": 18,
   "id": "7d300ce5-a561-4570-b67a-4df87de534e2",
   "metadata": {},
   "outputs": [],
   "source": [
    "#insted of return yiekd value is used"
   ]
  },
  {
   "cell_type": "code",
   "execution_count": 36,
   "id": "5835641a-2302-4424-bc01-42d4f5377499",
   "metadata": {},
   "outputs": [],
   "source": [
    "def next_prime(n):\n",
    "    for i in range(2,n):\n",
    "        for j in range(2,int((i**0.5))+1):\n",
    "            if i%j==0:\n",
    "                break\n",
    "        else:\n",
    "            yield i"
   ]
  },
  {
   "cell_type": "code",
   "execution_count": 37,
   "id": "a4f041b3-af66-4e71-ad13-4e721c345c72",
   "metadata": {},
   "outputs": [
    {
     "name": "stdout",
     "output_type": "stream",
     "text": [
      "2\n",
      "3\n",
      "5\n",
      "7\n",
      "11\n",
      "13\n",
      "17\n",
      "19\n"
     ]
    }
   ],
   "source": [
    "for i in next_prime(20):\n",
    "    print(i)"
   ]
  },
  {
   "cell_type": "code",
   "execution_count": 26,
   "id": "2c203b9c-7c56-430f-bbea-c45e8ff97755",
   "metadata": {},
   "outputs": [],
   "source": [
    "##Q5. Create a generator function for prime numbers less than 1000. Use the next() method to print the\n",
    "##first 20 prime numbers."
   ]
  },
  {
   "cell_type": "code",
   "execution_count": 34,
   "id": "7ac64437-a51e-4396-9130-9472ac90d6d6",
   "metadata": {},
   "outputs": [],
   "source": [
    "def next_prime(n):\n",
    "    for i in range(2,n):\n",
    "        for j in range(2,int((i**0.5))+1):\n",
    "            if i%j==0:\n",
    "                break\n",
    "        else:\n",
    "            yield i"
   ]
  },
  {
   "cell_type": "code",
   "execution_count": 35,
   "id": "61432043-9e29-415f-b6be-3a0abbb463fa",
   "metadata": {},
   "outputs": [
    {
     "name": "stdout",
     "output_type": "stream",
     "text": [
      "2\n",
      "3\n",
      "5\n",
      "7\n",
      "11\n",
      "13\n",
      "17\n",
      "19\n",
      "23\n",
      "29\n",
      "31\n",
      "37\n",
      "41\n",
      "43\n",
      "47\n",
      "53\n",
      "59\n",
      "61\n",
      "67\n",
      "71\n"
     ]
    }
   ],
   "source": [
    "prime=next_prime(1000)\n",
    "for i in range(20):\n",
    "    print(next(prime))"
   ]
  },
  {
   "cell_type": "code",
   "execution_count": 38,
   "id": "96134039-ae21-45cf-bd9e-13ce9e490d79",
   "metadata": {},
   "outputs": [],
   "source": [
    "###Q6. Write a python program to print the first 10 Fibonacci numbers using a while loop."
   ]
  },
  {
   "cell_type": "code",
   "execution_count": 44,
   "id": "b0b7a9bc-539e-4f35-b104-643fa4ee4280",
   "metadata": {},
   "outputs": [],
   "source": [
    "def fibo(n):\n",
    "    a,b=0,1\n",
    "    count=1\n",
    "    while count < n:\n",
    "        yield a\n",
    "        a,b=b,a+b\n",
    "        count+=1"
   ]
  },
  {
   "cell_type": "code",
   "execution_count": 45,
   "id": "533410b2-f031-45d3-a826-204823fb84d5",
   "metadata": {},
   "outputs": [
    {
     "name": "stdout",
     "output_type": "stream",
     "text": [
      "0\n",
      "1\n",
      "1\n",
      "2\n",
      "3\n",
      "5\n",
      "8\n",
      "13\n",
      "21\n"
     ]
    }
   ],
   "source": [
    "for i in fibo(10):\n",
    "    print(i)"
   ]
  },
  {
   "cell_type": "code",
   "execution_count": 46,
   "id": "81675624-6bfd-4e9a-b018-74e7d7ff1370",
   "metadata": {},
   "outputs": [],
   "source": [
    "##Q7. Write a List Comprehension to iterate through the given string: ‘pwskills’.\n",
    "##Expected output: ['p', 'w', 's', 'k', 'i', 'l', 'l', 's']"
   ]
  },
  {
   "cell_type": "code",
   "execution_count": 47,
   "id": "423f3052-3428-475f-bb26-95e4ab470eac",
   "metadata": {},
   "outputs": [],
   "source": [
    "s=\"pwskills\""
   ]
  },
  {
   "cell_type": "code",
   "execution_count": 48,
   "id": "f81077d9-7f66-45ed-95d4-cb959f55956c",
   "metadata": {},
   "outputs": [],
   "source": [
    "l=[i for i in s]"
   ]
  },
  {
   "cell_type": "code",
   "execution_count": 49,
   "id": "d66ec390-8af2-40ab-b428-8795d6d4e36d",
   "metadata": {},
   "outputs": [
    {
     "data": {
      "text/plain": [
       "['p', 'w', 's', 'k', 'i', 'l', 'l', 's']"
      ]
     },
     "execution_count": 49,
     "metadata": {},
     "output_type": "execute_result"
    }
   ],
   "source": [
    "l"
   ]
  },
  {
   "cell_type": "code",
   "execution_count": 50,
   "id": "0be6de37-114a-4653-9943-cce16f3861ca",
   "metadata": {},
   "outputs": [],
   "source": [
    "###Q8. Write a python program to check whether a given number is Palindrome or not using a while loop."
   ]
  },
  {
   "cell_type": "code",
   "execution_count": 52,
   "id": "b5a0f47e-ba25-4347-b44c-21e1c68b6a4e",
   "metadata": {},
   "outputs": [],
   "source": [
    "def is_palindrome(n):\n",
    "    n=str(n)\n",
    "    if len(n)==1:\n",
    "        return True\n",
    "    else:\n",
    "        i=0\n",
    "        j=len(n)-1\n",
    "        while i<j:\n",
    "            if n[i]!=n[j]:\n",
    "                return False\n",
    "            i+=1\n",
    "            j-=1\n",
    "        return True"
   ]
  },
  {
   "cell_type": "code",
   "execution_count": 53,
   "id": "ac6ac4a8-deb9-4cc8-83e0-539b50432bfc",
   "metadata": {},
   "outputs": [
    {
     "data": {
      "text/plain": [
       "False"
      ]
     },
     "execution_count": 53,
     "metadata": {},
     "output_type": "execute_result"
    }
   ],
   "source": [
    "is_palindrome(12)"
   ]
  },
  {
   "cell_type": "code",
   "execution_count": 54,
   "id": "d6da99b6-90af-4bb3-802c-826b2eb2c808",
   "metadata": {},
   "outputs": [
    {
     "data": {
      "text/plain": [
       "True"
      ]
     },
     "execution_count": 54,
     "metadata": {},
     "output_type": "execute_result"
    }
   ],
   "source": [
    "is_palindrome(11)"
   ]
  },
  {
   "cell_type": "code",
   "execution_count": 55,
   "id": "22971b4c-449f-4d18-bfb9-c93107ca6f2b",
   "metadata": {},
   "outputs": [
    {
     "data": {
      "text/plain": [
       "True"
      ]
     },
     "execution_count": 55,
     "metadata": {},
     "output_type": "execute_result"
    }
   ],
   "source": [
    "is_palindrome(111)"
   ]
  },
  {
   "cell_type": "code",
   "execution_count": 56,
   "id": "6559e411-f981-4aed-b364-6e612588fee7",
   "metadata": {},
   "outputs": [
    {
     "data": {
      "text/plain": [
       "True"
      ]
     },
     "execution_count": 56,
     "metadata": {},
     "output_type": "execute_result"
    }
   ],
   "source": [
    "is_palindrome(1001)"
   ]
  },
  {
   "cell_type": "code",
   "execution_count": 57,
   "id": "1b9ed394-82b2-4491-9924-03ecd56eb091",
   "metadata": {},
   "outputs": [
    {
     "data": {
      "text/plain": [
       "False"
      ]
     },
     "execution_count": 57,
     "metadata": {},
     "output_type": "execute_result"
    }
   ],
   "source": [
    "is_palindrome(1231)"
   ]
  },
  {
   "cell_type": "code",
   "execution_count": 58,
   "id": "7086b280-84fc-47e1-b2b3-e0b1951b101e",
   "metadata": {},
   "outputs": [],
   "source": [
    "##Q9. Write a code to print odd numbers from 1 to 100 using list comprehension."
   ]
  },
  {
   "cell_type": "code",
   "execution_count": 61,
   "id": "b3d6dec9-59bf-4496-bb91-d900b5e9d038",
   "metadata": {},
   "outputs": [
    {
     "name": "stdout",
     "output_type": "stream",
     "text": [
      "1\n",
      "3\n",
      "5\n",
      "7\n",
      "9\n",
      "11\n",
      "13\n",
      "15\n",
      "17\n",
      "19\n",
      "21\n",
      "23\n",
      "25\n",
      "27\n",
      "29\n",
      "31\n",
      "33\n",
      "35\n",
      "37\n",
      "39\n",
      "41\n",
      "43\n",
      "45\n",
      "47\n",
      "49\n",
      "51\n",
      "53\n",
      "55\n",
      "57\n",
      "59\n",
      "61\n",
      "63\n",
      "65\n",
      "67\n",
      "69\n",
      "71\n",
      "73\n",
      "75\n",
      "77\n",
      "79\n",
      "81\n",
      "83\n",
      "85\n",
      "87\n",
      "89\n",
      "91\n",
      "93\n",
      "95\n",
      "97\n",
      "99\n"
     ]
    }
   ],
   "source": [
    "l1=[i for i in range(1,101)]\n",
    "l=[i for i in l1 if i%2!=0]\n",
    "for i in l:\n",
    "    print(i)"
   ]
  },
  {
   "cell_type": "code",
   "execution_count": null,
   "id": "9e42cf6c-f997-48b9-b3e8-8fff83de7ba5",
   "metadata": {},
   "outputs": [],
   "source": []
  }
 ],
 "metadata": {
  "kernelspec": {
   "display_name": "Python 3 (ipykernel)",
   "language": "python",
   "name": "python3"
  },
  "language_info": {
   "codemirror_mode": {
    "name": "ipython",
    "version": 3
   },
   "file_extension": ".py",
   "mimetype": "text/x-python",
   "name": "python",
   "nbconvert_exporter": "python",
   "pygments_lexer": "ipython3",
   "version": "3.10.8"
  }
 },
 "nbformat": 4,
 "nbformat_minor": 5
}
