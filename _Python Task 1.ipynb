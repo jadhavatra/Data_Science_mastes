{
 "cells": [
  {
   "cell_type": "code",
   "execution_count": 1,
   "id": "a3d8cac3-3d66-449d-822d-f173469e839e",
   "metadata": {},
   "outputs": [
    {
     "data": {
      "text/plain": [
       "'Q1. Create a function which will take a list as \\nan argument and \\nreturn the product of all the numbers\\nafter creating a flat list.\\nUse the below-given list as an argument for your function.\\nlist1 = [1,2,3,4, [44,55,66, True], False, (34,56,78,89,34),\\n{1,2,3,3,2,1}, {1:34, \"key2\": [55, 67, 78, 89], 4: (45,\\n22, 61, 34)}, [56, \\'data science\\'], \\'Machine Learning\\']\\nNote: you must extract numeric keys and values of the \\ndictionary also.'"
      ]
     },
     "execution_count": 1,
     "metadata": {},
     "output_type": "execute_result"
    }
   ],
   "source": [
    "'''Q1. Create a function which will take a list as \n",
    "an argument and \n",
    "return the product of all the numbers\n",
    "after creating a flat list.\n",
    "Use the below-given list as an argument for your function.\n",
    "list1 = [1,2,3,4, [44,55,66, True], False, (34,56,78,89,34),\n",
    "{1,2,3,3,2,1}, {1:34, \"key2\": [55, 67, 78, 89], 4: (45,\n",
    "22, 61, 34)}, [56, 'data science'], 'Machine Learning']\n",
    "Note: you must extract numeric keys and values of the \n",
    "dictionary also.'''"
   ]
  },
  {
   "cell_type": "code",
   "execution_count": 20,
   "id": "7e8bb1c8-9e13-426a-b66b-2ec0f7807822",
   "metadata": {},
   "outputs": [],
   "source": [
    "def product(l):\n",
    "    l1=[]\n",
    "    for i in l:\n",
    "        if type(i)==int or type(i)==float:\n",
    "            l1.append(i)\n",
    "        elif type(i)==list or type(i)==tuple or type(i)==set:\n",
    "            for j in i:\n",
    "                if type(j)==int or type(j)==float:\n",
    "                    l1.append(j)\n",
    "        elif type(i)==dict:\n",
    "            for j in i.keys():\n",
    "                if type(j)==int or type(j)==float:\n",
    "                    l1.append(j)\n",
    "            for j in i.values():\n",
    "                if type(j)==int or type(j)==float:\n",
    "                    l1.append(j)\n",
    "                elif type(j)==list or type(j)==tuple or type(j)==set:\n",
    "                    for k in j:\n",
    "                        if type(k)==int or type(k)==float:\n",
    "                            l1.append(k)\n",
    "    \n",
    "    product=1\n",
    "    for i in l1:\n",
    "        product*=i\n",
    "    \n",
    "    return product"
   ]
  },
  {
   "cell_type": "code",
   "execution_count": 21,
   "id": "3205a721-052b-4cf0-b32c-f30a8ec89dba",
   "metadata": {},
   "outputs": [],
   "source": [
    "list1 = [1,2,3,4, [44,55,66, True], False, (34,56,78,89,34), {1,2,3,3,2,1}, {1:34, \"key2\": [55, 67, 78, 89], 4: (45,\n",
    "22, 61, 34)}, [56, 'data science'], 'Machine Learning']"
   ]
  },
  {
   "cell_type": "code",
   "execution_count": 22,
   "id": "244b8a7f-6e76-4e3d-b50b-bc95857d7717",
   "metadata": {},
   "outputs": [
    {
     "data": {
      "text/plain": [
       "4134711838987085478833841242112000"
      ]
     },
     "execution_count": 22,
     "metadata": {},
     "output_type": "execute_result"
    }
   ],
   "source": [
    "product(list1)"
   ]
  },
  {
   "cell_type": "code",
   "execution_count": 23,
   "id": "3a99e8e4-ca36-4afc-bbe6-572390b6b16f",
   "metadata": {},
   "outputs": [
    {
     "data": {
      "text/plain": [
       "'Q2. Write a python program for encrypting a message sent to you by your friend. The logic of encryption\\nshould be such that, for a the output should be z. For b, the output should be y. For c, the output should\\nbe x respectively. Also, the whitespace should be replaced with a dollar sign. Keep the punctuation\\nmarks unchanged.\\nInput Sentence: I want to become a Data Scientist.\\nEncrypt the above input sentence using the program you just created.\\nNote: Convert the given input sentence into lowercase before encrypting. The final output should be\\nlowercase.'"
      ]
     },
     "execution_count": 23,
     "metadata": {},
     "output_type": "execute_result"
    }
   ],
   "source": [
    "'''Q2. Write a python program for encrypting a message sent to you by your friend. The logic of encryption\n",
    "should be such that, for a the output should be z. For b, the output should be y. For c, the output should\n",
    "be x respectively. Also, the whitespace should be replaced with a dollar sign. Keep the punctuation\n",
    "marks unchanged.\n",
    "Input Sentence: I want to become a Data Scientist.\n",
    "Encrypt the above input sentence using the program you just created.\n",
    "Note: Convert the given input sentence into lowercase before encrypting. The final output should be\n",
    "lowercase.'''"
   ]
  },
  {
   "cell_type": "code",
   "execution_count": 24,
   "id": "56e2dce0-7ff1-4fb2-9dc0-b00e7b25649d",
   "metadata": {},
   "outputs": [],
   "source": [
    "def encrypt_msg(msg):\n",
    "    encrypted_str=\"\"\n",
    "    msg=msg.lower()\n",
    "    for i in msg:\n",
    "        if i=='a':\n",
    "            encrypted_str+='z'\n",
    "        elif i=='b':\n",
    "            encrypted_str+='y'\n",
    "        elif i=='c':\n",
    "            encrypted_str+='x'\n",
    "        elif i==' ':\n",
    "            encrypted_str+='$'\n",
    "        else:\n",
    "            encrypted_str+=i\n",
    "            \n",
    "    return encrypted_str"
   ]
  },
  {
   "cell_type": "code",
   "execution_count": 25,
   "id": "69043daa-4386-4c7c-aae2-a84c7cc1e428",
   "metadata": {},
   "outputs": [
    {
     "data": {
      "text/plain": [
       "'i$wznt$to$yexome$z$dztz$sxientist.'"
      ]
     },
     "execution_count": 25,
     "metadata": {},
     "output_type": "execute_result"
    }
   ],
   "source": [
    "encrypt_msg('I want to become a Data Scientist.')"
   ]
  },
  {
   "cell_type": "code",
   "execution_count": null,
   "id": "aa91ee62-c9ff-4cab-be1f-d1b3ee80d888",
   "metadata": {},
   "outputs": [],
   "source": []
  }
 ],
 "metadata": {
  "kernelspec": {
   "display_name": "Python 3 (ipykernel)",
   "language": "python",
   "name": "python3"
  },
  "language_info": {
   "codemirror_mode": {
    "name": "ipython",
    "version": 3
   },
   "file_extension": ".py",
   "mimetype": "text/x-python",
   "name": "python",
   "nbconvert_exporter": "python",
   "pygments_lexer": "ipython3",
   "version": "3.10.8"
  }
 },
 "nbformat": 4,
 "nbformat_minor": 5
}
