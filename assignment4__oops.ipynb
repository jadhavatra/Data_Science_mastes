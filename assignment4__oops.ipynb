{
 "cells": [
  {
   "cell_type": "code",
   "execution_count": 1,
   "id": "031502b2-c2d5-4e1b-a45f-af834fc780b8",
   "metadata": {},
   "outputs": [],
   "source": [
    "###Q1. Explain Class and Object with respect to Object-Oriented Programming. Give a suitable example."
   ]
  },
  {
   "cell_type": "code",
   "execution_count": 2,
   "id": "8388e132-d1c1-4208-a1b4-85c2e9a2b534",
   "metadata": {},
   "outputs": [],
   "source": [
    "####class in object orientation programming shows the stucture of any entity.\n",
    "##its like a blueplrint.like a car has 4 wheels,pericular colour,high speed\n",
    "####object is a instance of class who has its own properties\n",
    "##like perticular car has red colour,max speed 220km/hr while \n",
    "###other object of car has blue colour,max speed 300km/hr.\n",
    "###both are objects of car but with their own properties"
   ]
  },
  {
   "cell_type": "code",
   "execution_count": 3,
   "id": "6967781b-8265-47bc-bef3-3ec6c97362f8",
   "metadata": {},
   "outputs": [],
   "source": [
    "####Q2. Name the four pillars of OOPs.\n"
   ]
  },
  {
   "cell_type": "code",
   "execution_count": 4,
   "id": "67c38aaf-54d6-428f-89ec-faa489d40b44",
   "metadata": {},
   "outputs": [],
   "source": [
    "###encapsulation,polymorphism,inheritance,abstraction"
   ]
  },
  {
   "cell_type": "code",
   "execution_count": 5,
   "id": "74e0b309-d808-4deb-bbca-5fe482dc892b",
   "metadata": {},
   "outputs": [],
   "source": [
    "###Q3. Explain why the __init__() function is used. Give a suitable example.\n"
   ]
  },
  {
   "cell_type": "code",
   "execution_count": 6,
   "id": "f32242d2-f6e3-4c8e-879f-d442f5386c62",
   "metadata": {},
   "outputs": [],
   "source": [
    "###it is constructor of class thrugh which user can provide "
   ]
  },
  {
   "cell_type": "code",
   "execution_count": 7,
   "id": "94bd2d55-e705-4d9a-a8cd-32ba19aa8dc6",
   "metadata": {},
   "outputs": [],
   "source": [
    "###neccessory information for creating objects"
   ]
  },
  {
   "cell_type": "code",
   "execution_count": 12,
   "id": "2a63f17e-1eac-4c59-9c68-41a45d2a8c00",
   "metadata": {},
   "outputs": [],
   "source": [
    "class person:\n",
    "    def __init__(self,name,weight,height):\n",
    "        self.name=name\n",
    "        self.weight=weight\n",
    "        self.height=height\n",
    "        \n",
    "    def person_info(self):\n",
    "        return self.name,self.weight,self.height"
   ]
  },
  {
   "cell_type": "code",
   "execution_count": 13,
   "id": "ef257229-2e79-4eb4-a2c2-5b7bbd5604b0",
   "metadata": {},
   "outputs": [],
   "source": [
    "aniket = person(\"aniket\",\"90kg\",\"6ft\")"
   ]
  },
  {
   "cell_type": "code",
   "execution_count": 14,
   "id": "32b5501f-47b7-492b-9fea-f5a9bcf046ab",
   "metadata": {},
   "outputs": [
    {
     "data": {
      "text/plain": [
       "('aniket', '90kg', '6ft')"
      ]
     },
     "execution_count": 14,
     "metadata": {},
     "output_type": "execute_result"
    }
   ],
   "source": [
    "aniket.person_info()"
   ]
  },
  {
   "cell_type": "code",
   "execution_count": 15,
   "id": "8e22bb7e-4cdf-4c52-a6dd-5eddec6d2223",
   "metadata": {},
   "outputs": [],
   "source": [
    "###Q4. Why self is used in OOPs?"
   ]
  },
  {
   "cell_type": "code",
   "execution_count": 18,
   "id": "c2d69ce3-70a8-4138-9f55-53157805e320",
   "metadata": {},
   "outputs": [],
   "source": [
    "###self is used to indicate that this variable or this method "
   ]
  },
  {
   "cell_type": "code",
   "execution_count": 19,
   "id": "f546dcc2-8bb0-4374-9013-7243e00a11b5",
   "metadata": {},
   "outputs": [],
   "source": [
    "###belogs to class we are wrinting"
   ]
  },
  {
   "cell_type": "code",
   "execution_count": 20,
   "id": "80fe5b95-50a5-4030-b8e0-5d476cc27cad",
   "metadata": {},
   "outputs": [],
   "source": [
    "####Q5. What is inheritance? Give an example for each type of inheritance."
   ]
  },
  {
   "cell_type": "code",
   "execution_count": 21,
   "id": "310c630b-ad81-42c0-835f-9640926e1cfb",
   "metadata": {},
   "outputs": [],
   "source": [
    "###inteheritance allows one class to inherite methods from other clss"
   ]
  },
  {
   "cell_type": "code",
   "execution_count": 22,
   "id": "c3fdfa10-1488-42ed-ae06-85398b8c03b1",
   "metadata": {},
   "outputs": [],
   "source": [
    "##mulilevel inheritance"
   ]
  },
  {
   "cell_type": "code",
   "execution_count": 1,
   "id": "b870580d-b0d0-4dd7-91d3-50e2085695fe",
   "metadata": {},
   "outputs": [],
   "source": [
    "class grandad:\n",
    "    def loves_to_travel(self):\n",
    "        return \"i like to travel\"\n",
    "    "
   ]
  },
  {
   "cell_type": "code",
   "execution_count": 2,
   "id": "59aba2f6-fef0-4cad-9514-899e2c007a52",
   "metadata": {},
   "outputs": [],
   "source": [
    "class dad(grandad):\n",
    "    def loves_to_eat(self):\n",
    "        return \"i love to eat\""
   ]
  },
  {
   "cell_type": "code",
   "execution_count": 3,
   "id": "5fd5b181-c83c-4477-9203-5a7b1dd49f0a",
   "metadata": {},
   "outputs": [],
   "source": [
    "class son(dad):\n",
    "    pass"
   ]
  },
  {
   "cell_type": "code",
   "execution_count": 4,
   "id": "2f406e9f-8197-4bfa-9993-d61c63759d7b",
   "metadata": {},
   "outputs": [],
   "source": [
    "aniket=son()"
   ]
  },
  {
   "cell_type": "code",
   "execution_count": 6,
   "id": "75d3d16f-1b9f-472b-a3a1-97961d6f685d",
   "metadata": {},
   "outputs": [
    {
     "data": {
      "text/plain": [
       "'i love to eat'"
      ]
     },
     "execution_count": 6,
     "metadata": {},
     "output_type": "execute_result"
    }
   ],
   "source": [
    "aniket.loves_to_eat()"
   ]
  },
  {
   "cell_type": "code",
   "execution_count": 7,
   "id": "b30516bf-8676-4516-be03-b44b3dbb31de",
   "metadata": {},
   "outputs": [
    {
     "data": {
      "text/plain": [
       "'i like to travel'"
      ]
     },
     "execution_count": 7,
     "metadata": {},
     "output_type": "execute_result"
    }
   ],
   "source": [
    "aniket.loves_to_travel()"
   ]
  },
  {
   "cell_type": "code",
   "execution_count": 16,
   "id": "ea40fbf1-9249-48bd-8893-3a5cfe514536",
   "metadata": {},
   "outputs": [],
   "source": [
    "###multiple inheritance"
   ]
  },
  {
   "cell_type": "code",
   "execution_count": 10,
   "id": "3e729cdc-83c3-43b7-aa16-110e6a0a17e9",
   "metadata": {},
   "outputs": [],
   "source": [
    "class dad:\n",
    "    def be_resposible(self):\n",
    "        return \"be reslponsible\""
   ]
  },
  {
   "cell_type": "code",
   "execution_count": 11,
   "id": "c3450371-8373-4f57-80bb-f453a8638e4f",
   "metadata": {},
   "outputs": [],
   "source": [
    "class mom:\n",
    "    def be_nice(self):\n",
    "        return \"be nice to everyone\""
   ]
  },
  {
   "cell_type": "code",
   "execution_count": 12,
   "id": "8cfa5344-9406-4695-829b-8f6b2a15c334",
   "metadata": {},
   "outputs": [],
   "source": [
    "class son(dad,mom):\n",
    "    pass"
   ]
  },
  {
   "cell_type": "code",
   "execution_count": 13,
   "id": "bf13d29b-afde-4619-aabf-76835ecff2ba",
   "metadata": {},
   "outputs": [],
   "source": [
    "son=son()"
   ]
  },
  {
   "cell_type": "code",
   "execution_count": 14,
   "id": "6d779355-08ee-4e34-a782-8fcd2325ef77",
   "metadata": {},
   "outputs": [
    {
     "data": {
      "text/plain": [
       "'be nice to everyone'"
      ]
     },
     "execution_count": 14,
     "metadata": {},
     "output_type": "execute_result"
    }
   ],
   "source": [
    "son.be_nice()"
   ]
  },
  {
   "cell_type": "code",
   "execution_count": 15,
   "id": "a0c23e84-16be-46f4-9c6b-be78be5f71d0",
   "metadata": {},
   "outputs": [
    {
     "data": {
      "text/plain": [
       "'be reslponsible'"
      ]
     },
     "execution_count": 15,
     "metadata": {},
     "output_type": "execute_result"
    }
   ],
   "source": [
    "son.be_resposible()"
   ]
  },
  {
   "cell_type": "code",
   "execution_count": null,
   "id": "70dcd74a-34b5-4da6-a51b-007a97e1ffee",
   "metadata": {},
   "outputs": [],
   "source": []
  }
 ],
 "metadata": {
  "kernelspec": {
   "display_name": "Python 3 (ipykernel)",
   "language": "python",
   "name": "python3"
  },
  "language_info": {
   "codemirror_mode": {
    "name": "ipython",
    "version": 3
   },
   "file_extension": ".py",
   "mimetype": "text/x-python",
   "name": "python",
   "nbconvert_exporter": "python",
   "pygments_lexer": "ipython3",
   "version": "3.10.8"
  }
 },
 "nbformat": 4,
 "nbformat_minor": 5
}
