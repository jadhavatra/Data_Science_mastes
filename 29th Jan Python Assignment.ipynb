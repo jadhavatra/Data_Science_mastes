{
 "cells": [
  {
   "cell_type": "raw",
   "id": "06ba75a3-8d44-4095-98b3-9a9037a60da8",
   "metadata": {},
   "source": [
    "who developed python programming langauge"
   ]
  },
  {
   "cell_type": "raw",
   "id": "ed53d5fa-640c-4cd8-88ac-9347e9274595",
   "metadata": {},
   "source": [
    "Guido van Rossum"
   ]
  },
  {
   "cell_type": "raw",
   "id": "b9518d1e-4f9a-41f2-bc1d-77f28db37ade",
   "metadata": {},
   "source": [
    "Imperative Programming:Object-Oriented Programming Functional Programming Procedural Programming Scripting Modular Programming"
   ]
  },
  {
   "cell_type": "raw",
   "id": "00e25b7f-9e4a-437e-9cae-6218bb6104c4",
   "metadata": {},
   "source": [
    "idefiers in python are case sensitive"
   ]
  },
  {
   "cell_type": "raw",
   "id": "0fe7581f-aa87-4197-afac-16f110e8515d",
   "metadata": {},
   "source": [
    ".py is correct extension of pyton file"
   ]
  },
  {
   "cell_type": "markdown",
   "id": "15108498-8f66-46fa-884c-2c86e700e5d5",
   "metadata": {},
   "source": [
    "Python is an interpreted language, but it utilizes a compilation step to convert the source code into bytecode before executing it."
   ]
  },
  {
   "cell_type": "raw",
   "id": "b1f5960b-c79d-44be-904b-9f9c63fc436c",
   "metadata": {},
   "source": [
    "def class:\n",
    "    def function_name(self,arg1,arg2):\n",
    "        pass\n",
    "    def __init__(self,a,b):\n",
    "        self.a=a\n",
    "        self.b=b\n",
    "        \n",
    "for i in iteration:\n",
    "    \n",
    "while <codition>:\n",
    "\n",
    "if <condition>"
   ]
  },
  {
   "cell_type": "raw",
   "id": "03cbfa38-da89-435f-9bf5-1c4f2789d45f",
   "metadata": {},
   "source": [
    "# is used to give a sigle line comments in python"
   ]
  },
  {
   "cell_type": "code",
   "execution_count": 3,
   "id": "3818b6b2-f268-4fec-bc29-5bb5e43e9b43",
   "metadata": {},
   "outputs": [
    {
     "name": "stdout",
     "output_type": "stream",
     "text": [
      "3.10.8 | packaged by conda-forge | (main, Nov 22 2022, 08:26:04) [GCC 10.4.0]\n"
     ]
    }
   ],
   "source": [
    "import sys\n",
    "\n",
    "print(sys.version)"
   ]
  },
  {
   "cell_type": "raw",
   "id": "391ad62f-740c-4752-9b90-9f4258b6b259",
   "metadata": {},
   "source": [
    "lmbda constructor is used to create anonomus function"
   ]
  },
  {
   "cell_type": "raw",
   "id": "89089d68-c4b0-47e4-b6d1-4f7d6e7f13ab",
   "metadata": {},
   "source": [
    "PIP stands for \"Pip Installs Packages\" or \"Pip Installs Python.\" Pip is the default package manager for Python, used for installing, managing, and uninstalling software packages written in Python"
   ]
  },
  {
   "cell_type": "raw",
   "id": "c2658d36-6288-4c44-8f6a-2f6f877042f9",
   "metadata": {},
   "source": [
    "print() len() type() int() float() str() bool() iter() range() input() min() max() abs() sorted()"
   ]
  },
  {
   "cell_type": "raw",
   "id": "5ec9b8f6-4fb6-4038-9b99-6688cbfc419e",
   "metadata": {},
   "source": [
    "maximum length of identifier is 79"
   ]
  },
  {
   "cell_type": "raw",
   "id": "7f7953ef-eb9a-42a3-9feb-2fd07d1c92c2",
   "metadata": {},
   "source": [
    "benifits of using pyhton\n",
    "easy to use \n",
    "easy to learn\n",
    "extensive standard library \n",
    "rapid development\n",
    "strong support to scintific community and data scientist\n",
    "itegration with other libraries"
   ]
  },
  {
   "cell_type": "code",
   "execution_count": 1,
   "id": "4b377b72-6964-4c2a-8363-538c23a13f46",
   "metadata": {},
   "outputs": [],
   "source": [
    "#how is memory managed in python\n"
   ]
  },
  {
   "cell_type": "code",
   "execution_count": 2,
   "id": "90b0a00b-5a4f-4ee9-a7b3-cb41282fd7a6",
   "metadata": {},
   "outputs": [
    {
     "data": {
      "text/plain": [
       "'Memory management in Python involves a private heap containing all Python objects and data structures. \\nThe management of this private heap is ensured internally by the Python memory manager. The Python memory \\nmanager has different components which deal \\nwith various dynamic storage management aspects, like sharing, segmentation, preallocation or caching.'"
      ]
     },
     "execution_count": 2,
     "metadata": {},
     "output_type": "execute_result"
    }
   ],
   "source": [
    "'''Memory management in Python involves a private heap containing all Python objects and data structures. \n",
    "The management of this private heap is ensured internally by the Python memory manager. The Python memory \n",
    "manager has different components which deal \n",
    "with various dynamic storage management aspects, like sharing, segmentation, preallocation or caching.'''"
   ]
  },
  {
   "cell_type": "code",
   "execution_count": 3,
   "id": "7641a7ea-fcda-4841-b231-e921b791fb6e",
   "metadata": {},
   "outputs": [],
   "source": [
    "##how to install python and set path variables in windows"
   ]
  },
  {
   "cell_type": "code",
   "execution_count": 4,
   "id": "d4f56748-ee42-4860-8b61-b7c65f8fee37",
   "metadata": {},
   "outputs": [],
   "source": [
    "####we can down msc file and just follow installation process"
   ]
  },
  {
   "cell_type": "code",
   "execution_count": 5,
   "id": "ee7129ae-ffa8-4445-951c-e503316bded6",
   "metadata": {},
   "outputs": [],
   "source": [
    "####for path set we can give installed path in environmatal variable"
   ]
  },
  {
   "cell_type": "code",
   "execution_count": 6,
   "id": "cb8dd92e-946b-4113-8b7f-25144ccc5485",
   "metadata": {},
   "outputs": [],
   "source": [
    "####does indentation require in python "
   ]
  },
  {
   "cell_type": "code",
   "execution_count": 7,
   "id": "87f725d4-7a11-417c-8a27-c4fb18cc33a0",
   "metadata": {},
   "outputs": [],
   "source": [
    "####indentation requires in python"
   ]
  },
  {
   "cell_type": "code",
   "execution_count": null,
   "id": "255fa74c-bebf-43af-9f7c-8f5f988b1f7e",
   "metadata": {},
   "outputs": [],
   "source": []
  }
 ],
 "metadata": {
  "kernelspec": {
   "display_name": "Python 3 (ipykernel)",
   "language": "python",
   "name": "python3"
  },
  "language_info": {
   "codemirror_mode": {
    "name": "ipython",
    "version": 3
   },
   "file_extension": ".py",
   "mimetype": "text/x-python",
   "name": "python",
   "nbconvert_exporter": "python",
   "pygments_lexer": "ipython3",
   "version": "3.10.8"
  }
 },
 "nbformat": 4,
 "nbformat_minor": 5
}
