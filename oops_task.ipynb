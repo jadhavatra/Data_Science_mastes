{
 "cells": [
  {
   "cell_type": "code",
   "execution_count": 2,
   "id": "37c5804a-4e72-4d95-bcb7-5761aad24d40",
   "metadata": {},
   "outputs": [
    {
     "data": {
      "text/plain": [
       "'Q1, Create a vehicle class with an init method having instance variables as name_of_vehicle, max_speed\\nand average_of_vehicle.'"
      ]
     },
     "execution_count": 2,
     "metadata": {},
     "output_type": "execute_result"
    }
   ],
   "source": [
    "'''Q1, Create a vehicle class with an init method having instance variables as name_of_vehicle, max_speed\n",
    "and average_of_vehicle.'''"
   ]
  },
  {
   "cell_type": "code",
   "execution_count": 10,
   "id": "4ed885a6-5b33-4457-9e0e-603beb94d257",
   "metadata": {},
   "outputs": [],
   "source": [
    "class vehicle:\n",
    "    def __init__(self,name_of_vehicle,max_speed,average_of_vehicle):\n",
    "        self.name_of_vehicle=name_of_vehicle\n",
    "        self.max_speed=max_speed\n",
    "        self.average_of_vehicle=average_of_vehicle\n",
    "    \n",
    "    def get_vehicle_info(self):\n",
    "        return self.name_of_vehicle,self.max_speed,self.average_of_vehicle\n",
    "    "
   ]
  },
  {
   "cell_type": "code",
   "execution_count": 5,
   "id": "7433e941-543f-446e-acc2-1bcfbf650e57",
   "metadata": {},
   "outputs": [],
   "source": [
    "vehicle=vehicle('honda',80,60)"
   ]
  },
  {
   "cell_type": "code",
   "execution_count": 6,
   "id": "01660588-82b3-4fba-aac2-021da83d7506",
   "metadata": {},
   "outputs": [
    {
     "data": {
      "text/plain": [
       "('honda', 80, 60)"
      ]
     },
     "execution_count": 6,
     "metadata": {},
     "output_type": "execute_result"
    }
   ],
   "source": [
    "vehicle.get_vehicle_info()\n"
   ]
  },
  {
   "cell_type": "code",
   "execution_count": 7,
   "id": "fc5ae68b-62e2-4c21-95cf-1af21d146ad6",
   "metadata": {},
   "outputs": [
    {
     "data": {
      "text/plain": [
       "'Q2. Create a child class car from the vehicle class created in Que 1, which will inherit the vehicle class.\\nCreate a method named seating_capacity which takes capacity as an argument and returns the name of\\nthe vehicle and its seating capacity.'"
      ]
     },
     "execution_count": 7,
     "metadata": {},
     "output_type": "execute_result"
    }
   ],
   "source": [
    "'''Q2. Create a child class car from the vehicle class created in Que 1, which will inherit the vehicle class.\n",
    "Create a method named seating_capacity which takes capacity as an argument and returns the name of\n",
    "the vehicle and its seating capacity.'''"
   ]
  },
  {
   "cell_type": "code",
   "execution_count": 14,
   "id": "e4625006-2009-40ac-ad31-9522a4eb203d",
   "metadata": {},
   "outputs": [],
   "source": [
    "class car(vehicle):\n",
    "    def seating_capacity(self,capacity):\n",
    "        self.capacity=capacity\n",
    "        return self.name_of_vehicle,self.capacity"
   ]
  },
  {
   "cell_type": "code",
   "execution_count": 15,
   "id": "94c615df-ea4b-4fdd-90b3-76df2d675efe",
   "metadata": {},
   "outputs": [],
   "source": [
    "swift=car('swift',200,7)"
   ]
  },
  {
   "cell_type": "code",
   "execution_count": 16,
   "id": "f8d0d555-26b4-40cf-a9d4-8760edd12ee2",
   "metadata": {},
   "outputs": [
    {
     "data": {
      "text/plain": [
       "('swift', 4)"
      ]
     },
     "execution_count": 16,
     "metadata": {},
     "output_type": "execute_result"
    }
   ],
   "source": [
    "swift.seating_capacity(4)"
   ]
  },
  {
   "cell_type": "code",
   "execution_count": 17,
   "id": "c5389e8c-567b-4684-ae8a-9f82fea5e4b2",
   "metadata": {},
   "outputs": [
    {
     "data": {
      "text/plain": [
       "'Q3. What is multiple inheritance? Write a python code to demonstrate multiple inheritance.'"
      ]
     },
     "execution_count": 17,
     "metadata": {},
     "output_type": "execute_result"
    }
   ],
   "source": [
    "'''Q3. What is multiple inheritance? Write a python code to demonstrate multiple inheritance.'''"
   ]
  },
  {
   "cell_type": "code",
   "execution_count": 18,
   "id": "3c43b0ca-76fe-44e8-babf-3315419d7627",
   "metadata": {},
   "outputs": [
    {
     "data": {
      "text/plain": [
       "'when class directly inherit from 2 or more classess\\ncalled multiple inheritance'"
      ]
     },
     "execution_count": 18,
     "metadata": {},
     "output_type": "execute_result"
    }
   ],
   "source": [
    "'''when class directly inherit from 2 or more classess\n",
    "called multiple inheritance'''"
   ]
  },
  {
   "cell_type": "code",
   "execution_count": 22,
   "id": "8c4a0395-fe0e-4f6d-93e0-1f60a522107f",
   "metadata": {},
   "outputs": [],
   "source": [
    "class dad:\n",
    "    def speek_marathi(self):\n",
    "        print(\"speek marathi\")\n",
    "\n",
    "class mom:\n",
    "    def speek_telagu(self):\n",
    "        print(\"speek telgu\")\n",
    "\n",
    "class son(dad,mom):\n",
    "    pass"
   ]
  },
  {
   "cell_type": "code",
   "execution_count": 23,
   "id": "37d0b405-e54b-4df9-bd92-4aa69ec23245",
   "metadata": {},
   "outputs": [],
   "source": [
    "son=son()"
   ]
  },
  {
   "cell_type": "code",
   "execution_count": 24,
   "id": "9eff5096-a93f-4b4b-99a7-62c373d66887",
   "metadata": {},
   "outputs": [
    {
     "name": "stdout",
     "output_type": "stream",
     "text": [
      "speek marathi\n"
     ]
    }
   ],
   "source": [
    "son.speek_marathi()"
   ]
  },
  {
   "cell_type": "code",
   "execution_count": 25,
   "id": "ea4e5d61-7cc5-4727-9574-9e8c2f60d716",
   "metadata": {},
   "outputs": [
    {
     "name": "stdout",
     "output_type": "stream",
     "text": [
      "speek telgu\n"
     ]
    }
   ],
   "source": [
    "son.speek_telagu()"
   ]
  },
  {
   "cell_type": "code",
   "execution_count": 26,
   "id": "02a2d7fd-e909-495a-97c7-b93f6fe49cfc",
   "metadata": {},
   "outputs": [
    {
     "data": {
      "text/plain": [
       "'Q4. What are getter and setter in python? Create a class and create a getter and a setter method in this\\nclass.'"
      ]
     },
     "execution_count": 26,
     "metadata": {},
     "output_type": "execute_result"
    }
   ],
   "source": [
    "'''Q4. What are getter and setter in python? Create a class and create a getter and a setter method in this\n",
    "class.'''"
   ]
  },
  {
   "cell_type": "code",
   "execution_count": 27,
   "id": "3ea14224-a25e-45f1-a243-7a0e403d8176",
   "metadata": {},
   "outputs": [
    {
     "data": {
      "text/plain": [
       "'in case of an encapsulation we hide variables from\\nuser to achive privacy and abstrction.as we dont know variable\\nnames we have to use getter to get their value and setter\\nto set their value'"
      ]
     },
     "execution_count": 27,
     "metadata": {},
     "output_type": "execute_result"
    }
   ],
   "source": [
    "'''in case of an encapsulation we hide variables from\n",
    "user to achive privacy and abstrction.as we dont know variable\n",
    "names we have to use getter to get their value and setter\n",
    "to set their value'''"
   ]
  },
  {
   "cell_type": "code",
   "execution_count": 30,
   "id": "11c9f0e9-e7a6-4eeb-98c5-87ef2c87ef03",
   "metadata": {},
   "outputs": [],
   "source": [
    "class mobile:\n",
    "    def __init__(self,name,price,ram):\n",
    "        self.__name=name\n",
    "        self.__price=price\n",
    "        self.__ram=ram\n",
    "    \n",
    "    def get_price(self):\n",
    "        return self.__price\n",
    "    \n",
    "    def set_price(self,price):\n",
    "        self.__price=price"
   ]
  },
  {
   "cell_type": "code",
   "execution_count": 32,
   "id": "fa435a68-a98d-4c9a-b8e4-15b953b73bc2",
   "metadata": {},
   "outputs": [],
   "source": [
    "mobile=mobile('narzo',16000,'4GB')"
   ]
  },
  {
   "cell_type": "code",
   "execution_count": 33,
   "id": "8b9b661d-d729-4c5e-bec6-4c65c5cd6e1a",
   "metadata": {},
   "outputs": [
    {
     "data": {
      "text/plain": [
       "16000"
      ]
     },
     "execution_count": 33,
     "metadata": {},
     "output_type": "execute_result"
    }
   ],
   "source": [
    "mobile.get_price()"
   ]
  },
  {
   "cell_type": "code",
   "execution_count": 34,
   "id": "c3af047e-34ac-4f7f-88a3-64a44be53c61",
   "metadata": {},
   "outputs": [],
   "source": [
    "mobile.set_price(18000)"
   ]
  },
  {
   "cell_type": "code",
   "execution_count": 36,
   "id": "6afa6d96-46d2-4472-bdff-1b6d918861c6",
   "metadata": {},
   "outputs": [
    {
     "data": {
      "text/plain": [
       "18000"
      ]
     },
     "execution_count": 36,
     "metadata": {},
     "output_type": "execute_result"
    }
   ],
   "source": [
    "mobile.get_price()"
   ]
  },
  {
   "cell_type": "code",
   "execution_count": 37,
   "id": "f3f2c267-bc16-4847-8c08-c06540b82aa5",
   "metadata": {},
   "outputs": [],
   "source": [
    "####Q5.What is method overriding in python? Write a python code to demonstrate method overriding."
   ]
  },
  {
   "cell_type": "code",
   "execution_count": 38,
   "id": "406a51ff-7c57-4a37-b10d-d1583ad68348",
   "metadata": {},
   "outputs": [
    {
     "data": {
      "text/plain": [
       "'when subclss overrides method of parent class it is called \\nmethod overriding'"
      ]
     },
     "execution_count": 38,
     "metadata": {},
     "output_type": "execute_result"
    }
   ],
   "source": [
    "'''when subclss overrides method of parent class it is called \n",
    "method overriding'''"
   ]
  },
  {
   "cell_type": "code",
   "execution_count": 39,
   "id": "bfd958a2-cd7a-47a2-aa74-8be2b8533b4f",
   "metadata": {},
   "outputs": [],
   "source": [
    "class mamalls:\n",
    "    def brain(self):\n",
    "        print(\"we have brain\")\n",
    "\n",
    "class man(mamalls):\n",
    "    def brain(self):\n",
    "        print(\"our brain is developed\")"
   ]
  },
  {
   "cell_type": "code",
   "execution_count": 40,
   "id": "dd601843-e709-49d9-8de7-150509ba674e",
   "metadata": {},
   "outputs": [],
   "source": [
    "aniket=man()"
   ]
  },
  {
   "cell_type": "code",
   "execution_count": 41,
   "id": "5cdf4c73-2473-4270-b01c-09c228d212ea",
   "metadata": {},
   "outputs": [
    {
     "name": "stdout",
     "output_type": "stream",
     "text": [
      "our brain is developed\n"
     ]
    }
   ],
   "source": [
    "aniket.brain()"
   ]
  },
  {
   "cell_type": "code",
   "execution_count": null,
   "id": "82f9f6f5-cce1-42eb-9380-edd701926c1e",
   "metadata": {},
   "outputs": [],
   "source": []
  }
 ],
 "metadata": {
  "kernelspec": {
   "display_name": "Python 3 (ipykernel)",
   "language": "python",
   "name": "python3"
  },
  "language_info": {
   "codemirror_mode": {
    "name": "ipython",
    "version": 3
   },
   "file_extension": ".py",
   "mimetype": "text/x-python",
   "name": "python",
   "nbconvert_exporter": "python",
   "pygments_lexer": "ipython3",
   "version": "3.10.8"
  }
 },
 "nbformat": 4,
 "nbformat_minor": 5
}
