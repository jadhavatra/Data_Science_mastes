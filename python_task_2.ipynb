{
 "cells": [
  {
   "cell_type": "code",
   "execution_count": 1,
   "id": "520855c5-3890-42d4-b05b-8c362f38601c",
   "metadata": {},
   "outputs": [
    {
     "data": {
      "text/plain": [
       "'Q1. You are writing code for a company. The requirement of the company is that you create a python\\nfunction that will check whether the password entered by the user is correct or not. The function should\\ntake the password as input and return the string “Valid Password” if the entered password follows the\\nbelow-given password guidelines else it should return “Invalid Password”.\\nNote: 1. The Password should contain at least two uppercase letters and at least two lowercase letters.\\n2. The Password should contain at least a number and three special characters.\\n3. The length of the password should be 10 characters long.'"
      ]
     },
     "execution_count": 1,
     "metadata": {},
     "output_type": "execute_result"
    }
   ],
   "source": [
    "'''Q1. You are writing code for a company. The requirement of the company is that you create a python\n",
    "function that will check whether the password entered by the user is correct or not. The function should\n",
    "take the password as input and return the string “Valid Password” if the entered password follows the\n",
    "below-given password guidelines else it should return “Invalid Password”.\n",
    "Note: 1. The Password should contain at least two uppercase letters and at least two lowercase letters.\n",
    "2. The Password should contain at least a number and three special characters.\n",
    "3. The length of the password should be 10 characters long.'''"
   ]
  },
  {
   "cell_type": "code",
   "execution_count": 22,
   "id": "3a913087-aaa8-477e-8425-82c85ba1e258",
   "metadata": {},
   "outputs": [],
   "source": [
    "def check_password(password):\n",
    "    if len(password) !=10:\n",
    "        return \"Invalid password\"\n",
    "    \n",
    "    upper_count=0\n",
    "    lower_count=0\n",
    "    no_count=0\n",
    "    special_char_count=0\n",
    "    \n",
    "    for i in password:\n",
    "        if i.isupper():\n",
    "            upper_count+=1\n",
    "        elif i.islower():\n",
    "            lower_count+=1\n",
    "        elif i.isnumeric():\n",
    "            no_count+=1\n",
    "        if i in '!@#$%^&*()':\n",
    "            special_char_count+=1\n",
    "            \n",
    "    if upper_count<2 or lower_count <2 or no_count <1 or special_char_count!=3:\n",
    "        return \"Invalid password\"\n",
    "    \n",
    "    return \"Valid password\""
   ]
  },
  {
   "cell_type": "code",
   "execution_count": 26,
   "id": "f418902d-5ea3-4f4e-99cb-ca475426503a",
   "metadata": {},
   "outputs": [
    {
     "data": {
      "text/plain": [
       "'Invalid password'"
      ]
     },
     "execution_count": 26,
     "metadata": {},
     "output_type": "execute_result"
    }
   ],
   "source": [
    "check_password(\"anIK3f@#dD\")"
   ]
  },
  {
   "cell_type": "code",
   "execution_count": 27,
   "id": "4a9fe31b-51f7-4d0c-ac01-562fceb5ded3",
   "metadata": {},
   "outputs": [
    {
     "data": {
      "text/plain": [
       "'Q2. Solve the below-given questions using at least one of the following:\\n1. Lambda functioJ\\n2. Filter functioJ\\n3. Zap functioJ\\n4. List ComprehensioI\\nB Check if the string starts with a particular letterY\\nB Check if the string is numericY\\nB Sort a list of tuples having fruit names and their quantity. [(\"mango\",99),(\"orange\",80), (\"grapes\", 1000)-\\nB Find the squares of numbers from 1 to 10Y\\nB Find the cube root of numbers from 1 to 10Y\\nB Check if a given number is evenY\\nB Filter odd numbers from the given list.\\n[1,2,3,4,5,6,7,8,9,10-\\nB Sort a list of integers into positive and negative'"
      ]
     },
     "execution_count": 27,
     "metadata": {},
     "output_type": "execute_result"
    }
   ],
   "source": [
    "'''Q2. Solve the below-given questions using at least one of the following:\n",
    "1. Lambda functioJ\n",
    "2. Filter functioJ\n",
    "3. Zap functioJ\n",
    "4. List ComprehensioI\n",
    "B Check if the string starts with a particular letterY\n",
    "B Check if the string is numericY\n",
    "B Sort a list of tuples having fruit names and their quantity. [(\"mango\",99),(\"orange\",80), (\"grapes\", 1000)-\n",
    "B Find the squares of numbers from 1 to 10Y\n",
    "B Find the cube root of numbers from 1 to 10Y\n",
    "B Check if a given number is evenY\n",
    "B Filter odd numbers from the given list.\n",
    "[1,2,3,4,5,6,7,8,9,10-\n",
    "B Sort a list of integers into positive and negative'''"
   ]
  },
  {
   "cell_type": "code",
   "execution_count": 32,
   "id": "b1408ff0-3144-4933-bb67-7ca758754d72",
   "metadata": {},
   "outputs": [
    {
     "data": {
      "text/plain": [
       "True"
      ]
     },
     "execution_count": 32,
     "metadata": {},
     "output_type": "execute_result"
    }
   ],
   "source": [
    "\n",
    "is_A=lambda x:True if x[0]==\"A\" else False\n",
    "is_A(\"Aniket\")"
   ]
  },
  {
   "cell_type": "code",
   "execution_count": 33,
   "id": "3aa0d2fd-666e-4c2c-b167-12d9808e043e",
   "metadata": {},
   "outputs": [
    {
     "data": {
      "text/plain": [
       "False"
      ]
     },
     "execution_count": 33,
     "metadata": {},
     "output_type": "execute_result"
    }
   ],
   "source": [
    "is_A(\"Jadhav\")"
   ]
  },
  {
   "cell_type": "code",
   "execution_count": 34,
   "id": "90872fc7-68af-4a3f-bf43-3f4aa50feac8",
   "metadata": {},
   "outputs": [],
   "source": [
    "is_num=lambda str:True if str.isnumeric() else False"
   ]
  },
  {
   "cell_type": "code",
   "execution_count": 35,
   "id": "c710c832-9775-48b6-8c46-31ef3005613b",
   "metadata": {},
   "outputs": [
    {
     "data": {
      "text/plain": [
       "True"
      ]
     },
     "execution_count": 35,
     "metadata": {},
     "output_type": "execute_result"
    }
   ],
   "source": [
    "is_num(\"3252\")"
   ]
  },
  {
   "cell_type": "code",
   "execution_count": 36,
   "id": "69c082e8-cb0c-4729-bcd7-527bbb361b93",
   "metadata": {},
   "outputs": [
    {
     "data": {
      "text/plain": [
       "False"
      ]
     },
     "execution_count": 36,
     "metadata": {},
     "output_type": "execute_result"
    }
   ],
   "source": [
    "is_num(\"ani\")"
   ]
  },
  {
   "cell_type": "code",
   "execution_count": 38,
   "id": "9e322846-3d38-448f-b1aa-190c0c83c18f",
   "metadata": {},
   "outputs": [],
   "source": [
    "l=[(\"mango\",99),(\"orange\",80), (\"grapes\", 1000)]"
   ]
  },
  {
   "cell_type": "code",
   "execution_count": 39,
   "id": "3d5d12a5-3953-43bf-97d8-267c7c3546ab",
   "metadata": {},
   "outputs": [],
   "source": [
    "sorted_fruits=sorted(l,key=lambda x:x[1])"
   ]
  },
  {
   "cell_type": "code",
   "execution_count": 40,
   "id": "d899bd60-af2c-4171-89ea-a654307aaf42",
   "metadata": {},
   "outputs": [
    {
     "name": "stdout",
     "output_type": "stream",
     "text": [
      "[('orange', 80), ('mango', 99), ('grapes', 1000)]\n"
     ]
    }
   ],
   "source": [
    "print(sorted_fruits)"
   ]
  },
  {
   "cell_type": "code",
   "execution_count": 42,
   "id": "0adf4895-22f2-480b-aa58-478bc802548b",
   "metadata": {},
   "outputs": [],
   "source": [
    "sorted_with_name=sorted(l,key=lambda x:x[0])"
   ]
  },
  {
   "cell_type": "code",
   "execution_count": 43,
   "id": "5ac24492-49f8-41dc-b9f0-3bbf84b0e339",
   "metadata": {},
   "outputs": [
    {
     "data": {
      "text/plain": [
       "[('grapes', 1000), ('mango', 99), ('orange', 80)]"
      ]
     },
     "execution_count": 43,
     "metadata": {},
     "output_type": "execute_result"
    }
   ],
   "source": [
    "sorted_with_name"
   ]
  },
  {
   "cell_type": "code",
   "execution_count": 44,
   "id": "e2b2f849-e451-4250-a191-c895fab3af08",
   "metadata": {},
   "outputs": [],
   "source": [
    "l=[i for i in range(1,11)]"
   ]
  },
  {
   "cell_type": "code",
   "execution_count": 46,
   "id": "13d6cfa4-b372-44e4-98f0-1c61ffeaa7a0",
   "metadata": {},
   "outputs": [
    {
     "data": {
      "text/plain": [
       "[1, 4, 9, 16, 25, 36, 49, 64, 81, 100]"
      ]
     },
     "execution_count": 46,
     "metadata": {},
     "output_type": "execute_result"
    }
   ],
   "source": [
    "list(map(lambda x:x**2,l))"
   ]
  },
  {
   "cell_type": "code",
   "execution_count": 47,
   "id": "0f1561e0-bca9-454e-b488-323f292884c2",
   "metadata": {},
   "outputs": [
    {
     "data": {
      "text/plain": [
       "[1.0,\n",
       " 1.2599210498948732,\n",
       " 1.4422495703074083,\n",
       " 1.5874010519681994,\n",
       " 1.7099759466766968,\n",
       " 1.8171205928321397,\n",
       " 1.912931182772389,\n",
       " 2.0,\n",
       " 2.080083823051904,\n",
       " 2.154434690031884]"
      ]
     },
     "execution_count": 47,
     "metadata": {},
     "output_type": "execute_result"
    }
   ],
   "source": [
    "list(map(lambda x:x**(1/3),l))"
   ]
  },
  {
   "cell_type": "code",
   "execution_count": 52,
   "id": "e27e8257-f570-4a79-a30b-42b7b7a8992d",
   "metadata": {},
   "outputs": [],
   "source": [
    "is_even=lambda x:True if x%2==0 else False"
   ]
  },
  {
   "cell_type": "code",
   "execution_count": 53,
   "id": "c920b77b-9e02-4f51-9780-60fc7ee901b0",
   "metadata": {},
   "outputs": [
    {
     "data": {
      "text/plain": [
       "False"
      ]
     },
     "execution_count": 53,
     "metadata": {},
     "output_type": "execute_result"
    }
   ],
   "source": [
    "is_even(7)"
   ]
  },
  {
   "cell_type": "code",
   "execution_count": 55,
   "id": "6eb54510-2d7b-41b1-8b0b-e58df7207b0b",
   "metadata": {},
   "outputs": [
    {
     "data": {
      "text/plain": [
       "True"
      ]
     },
     "execution_count": 55,
     "metadata": {},
     "output_type": "execute_result"
    }
   ],
   "source": [
    "is_even(10)"
   ]
  },
  {
   "cell_type": "code",
   "execution_count": 56,
   "id": "fd2b2121-c92a-4bfc-b6cb-71eaab0a2eba",
   "metadata": {},
   "outputs": [],
   "source": [
    "l1=[1,2,3,4,5,6,7,8,9,10]"
   ]
  },
  {
   "cell_type": "code",
   "execution_count": 59,
   "id": "dc00ea42-c4fb-47fa-8d77-889ed2bf88c0",
   "metadata": {},
   "outputs": [],
   "source": [
    "from functools import reduce"
   ]
  },
  {
   "cell_type": "code",
   "execution_count": 62,
   "id": "9ba310b5-927d-444c-b95c-32c39789069a",
   "metadata": {},
   "outputs": [],
   "source": [
    "l2=list(filter(lambda x:x%2==1,l))"
   ]
  },
  {
   "cell_type": "code",
   "execution_count": 63,
   "id": "9fd8da61-0644-4230-9c59-30916d54b414",
   "metadata": {},
   "outputs": [
    {
     "data": {
      "text/plain": [
       "[1, 3, 5, 7, 9]"
      ]
     },
     "execution_count": 63,
     "metadata": {},
     "output_type": "execute_result"
    }
   ],
   "source": [
    "l2"
   ]
  },
  {
   "cell_type": "code",
   "execution_count": 73,
   "id": "673c1235-966e-4255-832b-7689503c0bac",
   "metadata": {},
   "outputs": [],
   "source": [
    "list1=[1,2,3,4,5,6,-1,-2,-3,-4,-5,0]"
   ]
  },
  {
   "cell_type": "code",
   "execution_count": 72,
   "id": "245ee72b-c15b-472b-aa96-f065136d2447",
   "metadata": {},
   "outputs": [
    {
     "name": "stdin",
     "output_type": "stream",
     "text": [
      "Once deleted, variables cannot be recovered. Proceed (y/[n])?  y\n"
     ]
    }
   ],
   "source": [
    "%reset"
   ]
  },
  {
   "cell_type": "code",
   "execution_count": 74,
   "id": "b41b98ea-b016-4643-8fff-75293225f5c4",
   "metadata": {},
   "outputs": [],
   "source": [
    "positive_list=list(filter(lambda x:x>=0,list1))"
   ]
  },
  {
   "cell_type": "code",
   "execution_count": 75,
   "id": "a3e53cdd-b808-4ac6-87ca-7a5bf16ddeb8",
   "metadata": {},
   "outputs": [
    {
     "data": {
      "text/plain": [
       "[1, 2, 3, 4, 5, 6, 0]"
      ]
     },
     "execution_count": 75,
     "metadata": {},
     "output_type": "execute_result"
    }
   ],
   "source": [
    "positive_list\n"
   ]
  },
  {
   "cell_type": "code",
   "execution_count": 76,
   "id": "f05776ec-3976-46a4-ab95-5d558dd8a32e",
   "metadata": {},
   "outputs": [],
   "source": [
    "negative_list=list(filter(lambda x:x<0,list1))"
   ]
  },
  {
   "cell_type": "code",
   "execution_count": 77,
   "id": "b1228407-90c2-4501-9024-724f502f0689",
   "metadata": {},
   "outputs": [
    {
     "data": {
      "text/plain": [
       "[-1, -2, -3, -4, -5]"
      ]
     },
     "execution_count": 77,
     "metadata": {},
     "output_type": "execute_result"
    }
   ],
   "source": [
    "negative_list\n"
   ]
  },
  {
   "cell_type": "code",
   "execution_count": null,
   "id": "da2889ba-ed38-4caa-a539-cfff8d9b4f7d",
   "metadata": {},
   "outputs": [],
   "source": []
  }
 ],
 "metadata": {
  "kernelspec": {
   "display_name": "Python 3 (ipykernel)",
   "language": "python",
   "name": "python3"
  },
  "language_info": {
   "codemirror_mode": {
    "name": "ipython",
    "version": 3
   },
   "file_extension": ".py",
   "mimetype": "text/x-python",
   "name": "python",
   "nbconvert_exporter": "python",
   "pygments_lexer": "ipython3",
   "version": "3.10.8"
  }
 },
 "nbformat": 4,
 "nbformat_minor": 5
}
